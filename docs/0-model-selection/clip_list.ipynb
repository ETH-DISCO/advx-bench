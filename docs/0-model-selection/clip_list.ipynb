{
 "cells": [
  {
   "cell_type": "markdown",
   "metadata": {},
   "source": [
    "# clip"
   ]
  },
  {
   "cell_type": "code",
   "execution_count": 4,
   "metadata": {},
   "outputs": [
    {
     "name": "stdout",
     "output_type": "stream",
     "text": [
      "Requirement already satisfied: clip in /Users/sueszli/.asdf/installs/python/3.11.9/lib/python3.11/site-packages (1.0)\n",
      "Requirement already satisfied: ftfy in /Users/sueszli/.asdf/installs/python/3.11.9/lib/python3.11/site-packages (from clip) (6.2.0)\n",
      "Requirement already satisfied: packaging in /Users/sueszli/.asdf/installs/python/3.11.9/lib/python3.11/site-packages (from clip) (24.1)\n",
      "Requirement already satisfied: regex in /Users/sueszli/.asdf/installs/python/3.11.9/lib/python3.11/site-packages (from clip) (2024.4.28)\n",
      "Requirement already satisfied: tqdm in /Users/sueszli/.asdf/installs/python/3.11.9/lib/python3.11/site-packages (from clip) (4.66.4)\n",
      "Requirement already satisfied: torch in /Users/sueszli/.asdf/installs/python/3.11.9/lib/python3.11/site-packages (from clip) (2.3.0)\n",
      "Requirement already satisfied: torchvision in /Users/sueszli/.asdf/installs/python/3.11.9/lib/python3.11/site-packages (from clip) (0.18.0)\n",
      "Requirement already satisfied: wcwidth<0.3.0,>=0.2.12 in /Users/sueszli/.local/lib/python3.11/site-packages (from ftfy->clip) (0.2.13)\n",
      "Requirement already satisfied: filelock in /Users/sueszli/.asdf/installs/python/3.11.9/lib/python3.11/site-packages (from torch->clip) (3.12.4)\n",
      "Requirement already satisfied: typing-extensions>=4.8.0 in /Users/sueszli/.asdf/installs/python/3.11.9/lib/python3.11/site-packages (from torch->clip) (4.11.0)\n",
      "Requirement already satisfied: sympy in /Users/sueszli/.asdf/installs/python/3.11.9/lib/python3.11/site-packages (from torch->clip) (1.12.1rc1)\n",
      "Requirement already satisfied: networkx in /Users/sueszli/.asdf/installs/python/3.11.9/lib/python3.11/site-packages (from torch->clip) (3.3)\n",
      "Requirement already satisfied: jinja2 in /Users/sueszli/.asdf/installs/python/3.11.9/lib/python3.11/site-packages (from torch->clip) (3.1.4)\n",
      "Requirement already satisfied: fsspec in /Users/sueszli/.asdf/installs/python/3.11.9/lib/python3.11/site-packages (from torch->clip) (2024.3.1)\n",
      "Requirement already satisfied: numpy in /Users/sueszli/.asdf/installs/python/3.11.9/lib/python3.11/site-packages (from torchvision->clip) (1.24.4)\n",
      "Requirement already satisfied: pillow!=8.3.*,>=5.3.0 in /Users/sueszli/.asdf/installs/python/3.11.9/lib/python3.11/site-packages (from torchvision->clip) (10.2.0)\n",
      "Requirement already satisfied: MarkupSafe>=2.0 in /Users/sueszli/.asdf/installs/python/3.11.9/lib/python3.11/site-packages (from jinja2->torch->clip) (2.1.5)\n",
      "Requirement already satisfied: mpmath<1.4.0,>=1.1.0 in /Users/sueszli/.asdf/installs/python/3.11.9/lib/python3.11/site-packages (from sympy->torch->clip) (1.3.0)\n",
      "Note: you may need to restart the kernel to use updated packages.\n",
      "\n",
      "\n",
      "\n",
      "\n",
      "\n",
      "\n",
      "['RN50', 'RN101', 'RN50x4', 'RN50x16', 'RN50x64', 'ViT-B/32', 'ViT-B/16', 'ViT-L/14', 'ViT-L/14@336px']\n"
     ]
    }
   ],
   "source": [
    "%pip install clip\n",
    "\n",
    "import clip\n",
    "\n",
    "print(\"\\n\" * 5)\n",
    "print(clip.available_models())"
   ]
  },
  {
   "cell_type": "markdown",
   "metadata": {},
   "source": [
    "# open clip"
   ]
  },
  {
   "cell_type": "code",
   "execution_count": 5,
   "metadata": {},
   "outputs": [
    {
     "name": "stdout",
     "output_type": "stream",
     "text": [
      "Requirement already satisfied: open_clip_torch in /Users/sueszli/.asdf/installs/python/3.11.9/lib/python3.11/site-packages (2.26.1)\n",
      "Requirement already satisfied: torch>=1.9.0 in /Users/sueszli/.asdf/installs/python/3.11.9/lib/python3.11/site-packages (from open_clip_torch) (2.3.0)\n",
      "Requirement already satisfied: torchvision in /Users/sueszli/.asdf/installs/python/3.11.9/lib/python3.11/site-packages (from open_clip_torch) (0.18.0)\n",
      "Requirement already satisfied: regex in /Users/sueszli/.asdf/installs/python/3.11.9/lib/python3.11/site-packages (from open_clip_torch) (2024.4.28)\n",
      "Requirement already satisfied: ftfy in /Users/sueszli/.asdf/installs/python/3.11.9/lib/python3.11/site-packages (from open_clip_torch) (6.2.0)\n",
      "Requirement already satisfied: tqdm in /Users/sueszli/.asdf/installs/python/3.11.9/lib/python3.11/site-packages (from open_clip_torch) (4.66.4)\n",
      "Requirement already satisfied: huggingface-hub in /Users/sueszli/.asdf/installs/python/3.11.9/lib/python3.11/site-packages (from open_clip_torch) (0.23.4)\n",
      "Requirement already satisfied: timm in /Users/sueszli/.asdf/installs/python/3.11.9/lib/python3.11/site-packages (from open_clip_torch) (1.0.7)\n",
      "Requirement already satisfied: filelock in /Users/sueszli/.asdf/installs/python/3.11.9/lib/python3.11/site-packages (from torch>=1.9.0->open_clip_torch) (3.12.4)\n",
      "Requirement already satisfied: typing-extensions>=4.8.0 in /Users/sueszli/.asdf/installs/python/3.11.9/lib/python3.11/site-packages (from torch>=1.9.0->open_clip_torch) (4.11.0)\n",
      "Requirement already satisfied: sympy in /Users/sueszli/.asdf/installs/python/3.11.9/lib/python3.11/site-packages (from torch>=1.9.0->open_clip_torch) (1.12.1rc1)\n",
      "Requirement already satisfied: networkx in /Users/sueszli/.asdf/installs/python/3.11.9/lib/python3.11/site-packages (from torch>=1.9.0->open_clip_torch) (3.3)\n",
      "Requirement already satisfied: jinja2 in /Users/sueszli/.asdf/installs/python/3.11.9/lib/python3.11/site-packages (from torch>=1.9.0->open_clip_torch) (3.1.4)\n",
      "Requirement already satisfied: fsspec in /Users/sueszli/.asdf/installs/python/3.11.9/lib/python3.11/site-packages (from torch>=1.9.0->open_clip_torch) (2024.3.1)\n",
      "Requirement already satisfied: wcwidth<0.3.0,>=0.2.12 in /Users/sueszli/.local/lib/python3.11/site-packages (from ftfy->open_clip_torch) (0.2.13)\n",
      "Requirement already satisfied: packaging>=20.9 in /Users/sueszli/.asdf/installs/python/3.11.9/lib/python3.11/site-packages (from huggingface-hub->open_clip_torch) (24.1)\n",
      "Requirement already satisfied: pyyaml>=5.1 in /Users/sueszli/.asdf/installs/python/3.11.9/lib/python3.11/site-packages (from huggingface-hub->open_clip_torch) (6.0.1)\n",
      "Requirement already satisfied: requests in /Users/sueszli/.asdf/installs/python/3.11.9/lib/python3.11/site-packages (from huggingface-hub->open_clip_torch) (2.32.3)\n",
      "Requirement already satisfied: safetensors in /Users/sueszli/.asdf/installs/python/3.11.9/lib/python3.11/site-packages (from timm->open_clip_torch) (0.4.3)\n",
      "Requirement already satisfied: numpy in /Users/sueszli/.asdf/installs/python/3.11.9/lib/python3.11/site-packages (from torchvision->open_clip_torch) (1.24.4)\n",
      "Requirement already satisfied: pillow!=8.3.*,>=5.3.0 in /Users/sueszli/.asdf/installs/python/3.11.9/lib/python3.11/site-packages (from torchvision->open_clip_torch) (10.2.0)\n",
      "Requirement already satisfied: MarkupSafe>=2.0 in /Users/sueszli/.asdf/installs/python/3.11.9/lib/python3.11/site-packages (from jinja2->torch>=1.9.0->open_clip_torch) (2.1.5)\n",
      "Requirement already satisfied: charset-normalizer<4,>=2 in /Users/sueszli/.asdf/installs/python/3.11.9/lib/python3.11/site-packages (from requests->huggingface-hub->open_clip_torch) (3.3.2)\n",
      "Requirement already satisfied: idna<4,>=2.5 in /Users/sueszli/.asdf/installs/python/3.11.9/lib/python3.11/site-packages (from requests->huggingface-hub->open_clip_torch) (3.7)\n",
      "Requirement already satisfied: urllib3<3,>=1.21.1 in /Users/sueszli/.asdf/installs/python/3.11.9/lib/python3.11/site-packages (from requests->huggingface-hub->open_clip_torch) (2.2.1)\n",
      "Requirement already satisfied: certifi>=2017.4.17 in /Users/sueszli/.asdf/installs/python/3.11.9/lib/python3.11/site-packages (from requests->huggingface-hub->open_clip_torch) (2024.2.2)\n",
      "Requirement already satisfied: mpmath<1.4.0,>=1.1.0 in /Users/sueszli/.asdf/installs/python/3.11.9/lib/python3.11/site-packages (from sympy->torch>=1.9.0->open_clip_torch) (1.3.0)\n",
      "Note: you may need to restart the kernel to use updated packages.\n",
      "\n",
      "\n",
      "\n",
      "\n",
      "\n",
      "\n",
      "\n",
      "\n",
      "\n",
      "\n",
      "\n"
     ]
    },
    {
     "data": {
      "text/plain": [
       "[('RN50', 'openai'),\n",
       " ('RN50', 'yfcc15m'),\n",
       " ('RN50', 'cc12m'),\n",
       " ('RN50-quickgelu', 'openai'),\n",
       " ('RN50-quickgelu', 'yfcc15m'),\n",
       " ('RN50-quickgelu', 'cc12m'),\n",
       " ('RN101', 'openai'),\n",
       " ('RN101', 'yfcc15m'),\n",
       " ('RN101-quickgelu', 'openai'),\n",
       " ('RN101-quickgelu', 'yfcc15m'),\n",
       " ('RN50x4', 'openai'),\n",
       " ('RN50x16', 'openai'),\n",
       " ('RN50x64', 'openai'),\n",
       " ('ViT-B-32', 'openai'),\n",
       " ('ViT-B-32', 'laion400m_e31'),\n",
       " ('ViT-B-32', 'laion400m_e32'),\n",
       " ('ViT-B-32', 'laion2b_e16'),\n",
       " ('ViT-B-32', 'laion2b_s34b_b79k'),\n",
       " ('ViT-B-32', 'datacomp_xl_s13b_b90k'),\n",
       " ('ViT-B-32', 'datacomp_m_s128m_b4k'),\n",
       " ('ViT-B-32', 'commonpool_m_clip_s128m_b4k'),\n",
       " ('ViT-B-32', 'commonpool_m_laion_s128m_b4k'),\n",
       " ('ViT-B-32', 'commonpool_m_image_s128m_b4k'),\n",
       " ('ViT-B-32', 'commonpool_m_text_s128m_b4k'),\n",
       " ('ViT-B-32', 'commonpool_m_basic_s128m_b4k'),\n",
       " ('ViT-B-32', 'commonpool_m_s128m_b4k'),\n",
       " ('ViT-B-32', 'datacomp_s_s13m_b4k'),\n",
       " ('ViT-B-32', 'commonpool_s_clip_s13m_b4k'),\n",
       " ('ViT-B-32', 'commonpool_s_laion_s13m_b4k'),\n",
       " ('ViT-B-32', 'commonpool_s_image_s13m_b4k'),\n",
       " ('ViT-B-32', 'commonpool_s_text_s13m_b4k'),\n",
       " ('ViT-B-32', 'commonpool_s_basic_s13m_b4k'),\n",
       " ('ViT-B-32', 'commonpool_s_s13m_b4k'),\n",
       " ('ViT-B-32-256', 'datacomp_s34b_b86k'),\n",
       " ('ViT-B-32-quickgelu', 'openai'),\n",
       " ('ViT-B-32-quickgelu', 'laion400m_e31'),\n",
       " ('ViT-B-32-quickgelu', 'laion400m_e32'),\n",
       " ('ViT-B-32-quickgelu', 'metaclip_400m'),\n",
       " ('ViT-B-32-quickgelu', 'metaclip_fullcc'),\n",
       " ('ViT-B-16', 'openai'),\n",
       " ('ViT-B-16', 'laion400m_e31'),\n",
       " ('ViT-B-16', 'laion400m_e32'),\n",
       " ('ViT-B-16', 'laion2b_s34b_b88k'),\n",
       " ('ViT-B-16', 'datacomp_xl_s13b_b90k'),\n",
       " ('ViT-B-16', 'datacomp_l_s1b_b8k'),\n",
       " ('ViT-B-16', 'commonpool_l_clip_s1b_b8k'),\n",
       " ('ViT-B-16', 'commonpool_l_laion_s1b_b8k'),\n",
       " ('ViT-B-16', 'commonpool_l_image_s1b_b8k'),\n",
       " ('ViT-B-16', 'commonpool_l_text_s1b_b8k'),\n",
       " ('ViT-B-16', 'commonpool_l_basic_s1b_b8k'),\n",
       " ('ViT-B-16', 'commonpool_l_s1b_b8k'),\n",
       " ('ViT-B-16', 'dfn2b'),\n",
       " ('ViT-B-16-quickgelu', 'metaclip_400m'),\n",
       " ('ViT-B-16-quickgelu', 'metaclip_fullcc'),\n",
       " ('ViT-B-16-plus-240', 'laion400m_e31'),\n",
       " ('ViT-B-16-plus-240', 'laion400m_e32'),\n",
       " ('ViT-L-14', 'openai'),\n",
       " ('ViT-L-14', 'laion400m_e31'),\n",
       " ('ViT-L-14', 'laion400m_e32'),\n",
       " ('ViT-L-14', 'laion2b_s32b_b82k'),\n",
       " ('ViT-L-14', 'datacomp_xl_s13b_b90k'),\n",
       " ('ViT-L-14', 'commonpool_xl_clip_s13b_b90k'),\n",
       " ('ViT-L-14', 'commonpool_xl_laion_s13b_b90k'),\n",
       " ('ViT-L-14', 'commonpool_xl_s13b_b90k'),\n",
       " ('ViT-L-14-quickgelu', 'metaclip_400m'),\n",
       " ('ViT-L-14-quickgelu', 'metaclip_fullcc'),\n",
       " ('ViT-L-14-quickgelu', 'dfn2b'),\n",
       " ('ViT-L-14-336', 'openai'),\n",
       " ('ViT-H-14', 'laion2b_s32b_b79k'),\n",
       " ('ViT-H-14-quickgelu', 'metaclip_fullcc'),\n",
       " ('ViT-H-14-quickgelu', 'dfn5b'),\n",
       " ('ViT-H-14-378-quickgelu', 'dfn5b'),\n",
       " ('ViT-g-14', 'laion2b_s12b_b42k'),\n",
       " ('ViT-g-14', 'laion2b_s34b_b88k'),\n",
       " ('ViT-bigG-14', 'laion2b_s39b_b160k'),\n",
       " ('roberta-ViT-B-32', 'laion2b_s12b_b32k'),\n",
       " ('xlm-roberta-base-ViT-B-32', 'laion5b_s13b_b90k'),\n",
       " ('xlm-roberta-large-ViT-H-14', 'frozen_laion5b_s13b_b90k'),\n",
       " ('convnext_base', 'laion400m_s13b_b51k'),\n",
       " ('convnext_base_w', 'laion2b_s13b_b82k'),\n",
       " ('convnext_base_w', 'laion2b_s13b_b82k_augreg'),\n",
       " ('convnext_base_w', 'laion_aesthetic_s13b_b82k'),\n",
       " ('convnext_base_w_320', 'laion_aesthetic_s13b_b82k'),\n",
       " ('convnext_base_w_320', 'laion_aesthetic_s13b_b82k_augreg'),\n",
       " ('convnext_large_d', 'laion2b_s26b_b102k_augreg'),\n",
       " ('convnext_large_d_320', 'laion2b_s29b_b131k_ft'),\n",
       " ('convnext_large_d_320', 'laion2b_s29b_b131k_ft_soup'),\n",
       " ('convnext_xxlarge', 'laion2b_s34b_b82k_augreg'),\n",
       " ('convnext_xxlarge', 'laion2b_s34b_b82k_augreg_rewind'),\n",
       " ('convnext_xxlarge', 'laion2b_s34b_b82k_augreg_soup'),\n",
       " ('coca_ViT-B-32', 'laion2b_s13b_b90k'),\n",
       " ('coca_ViT-B-32', 'mscoco_finetuned_laion2b_s13b_b90k'),\n",
       " ('coca_ViT-L-14', 'laion2b_s13b_b90k'),\n",
       " ('coca_ViT-L-14', 'mscoco_finetuned_laion2b_s13b_b90k'),\n",
       " ('EVA01-g-14', 'laion400m_s11b_b41k'),\n",
       " ('EVA01-g-14-plus', 'merged2b_s11b_b114k'),\n",
       " ('EVA02-B-16', 'merged2b_s8b_b131k'),\n",
       " ('EVA02-L-14', 'merged2b_s4b_b131k'),\n",
       " ('EVA02-L-14-336', 'merged2b_s6b_b61k'),\n",
       " ('EVA02-E-14', 'laion2b_s4b_b115k'),\n",
       " ('EVA02-E-14-plus', 'laion2b_s9b_b144k'),\n",
       " ('ViT-B-16-SigLIP', 'webli'),\n",
       " ('ViT-B-16-SigLIP-256', 'webli'),\n",
       " ('ViT-B-16-SigLIP-i18n-256', 'webli'),\n",
       " ('ViT-B-16-SigLIP-384', 'webli'),\n",
       " ('ViT-B-16-SigLIP-512', 'webli'),\n",
       " ('ViT-L-16-SigLIP-256', 'webli'),\n",
       " ('ViT-L-16-SigLIP-384', 'webli'),\n",
       " ('ViT-SO400M-14-SigLIP', 'webli'),\n",
       " ('ViT-SO400M-14-SigLIP-384', 'webli'),\n",
       " ('ViT-L-14-CLIPA', 'datacomp1b'),\n",
       " ('ViT-L-14-CLIPA-336', 'datacomp1b'),\n",
       " ('ViT-H-14-CLIPA', 'datacomp1b'),\n",
       " ('ViT-H-14-CLIPA-336', 'laion2b'),\n",
       " ('ViT-H-14-CLIPA-336', 'datacomp1b'),\n",
       " ('ViT-bigG-14-CLIPA', 'datacomp1b'),\n",
       " ('ViT-bigG-14-CLIPA-336', 'datacomp1b'),\n",
       " ('nllb-clip-base', 'v1'),\n",
       " ('nllb-clip-large', 'v1'),\n",
       " ('nllb-clip-base-siglip', 'v1'),\n",
       " ('nllb-clip-base-siglip', 'mrl'),\n",
       " ('nllb-clip-large-siglip', 'v1'),\n",
       " ('nllb-clip-large-siglip', 'mrl'),\n",
       " ('MobileCLIP-S1', 'datacompdr'),\n",
       " ('MobileCLIP-S2', 'datacompdr'),\n",
       " ('MobileCLIP-B', 'datacompdr'),\n",
       " ('MobileCLIP-B', 'datacompdr_lt'),\n",
       " ('ViTamin-S', 'datacomp1b'),\n",
       " ('ViTamin-S-LTT', 'datacomp1b'),\n",
       " ('ViTamin-B', 'datacomp1b'),\n",
       " ('ViTamin-B-LTT', 'datacomp1b'),\n",
       " ('ViTamin-L', 'datacomp1b'),\n",
       " ('ViTamin-L-256', 'datacomp1b'),\n",
       " ('ViTamin-L-336', 'datacomp1b'),\n",
       " ('ViTamin-L-384', 'datacomp1b'),\n",
       " ('ViTamin-L2', 'datacomp1b'),\n",
       " ('ViTamin-L2-256', 'datacomp1b'),\n",
       " ('ViTamin-L2-336', 'datacomp1b'),\n",
       " ('ViTamin-L2-384', 'datacomp1b'),\n",
       " ('ViTamin-XL-256', 'datacomp1b'),\n",
       " ('ViTamin-XL-336', 'datacomp1b'),\n",
       " ('ViTamin-XL-384', 'datacomp1b')]"
      ]
     },
     "execution_count": 5,
     "metadata": {},
     "output_type": "execute_result"
    }
   ],
   "source": [
    "%pip install open_clip_torch\n",
    "\n",
    "import open_clip\n",
    "\n",
    "print(\"\\n\" * 10)\n",
    "open_clip.list_pretrained()"
   ]
  },
  {
   "cell_type": "markdown",
   "metadata": {},
   "source": [
    "# lit"
   ]
  },
  {
   "cell_type": "code",
   "execution_count": 1,
   "metadata": {},
   "outputs": [
    {
     "name": "stdout",
     "output_type": "stream",
     "text": [
      "Reshimming asdf python...\n"
     ]
    }
   ],
   "source": [
    "!pip install -q git+https://github.com/google-research/vision_transformer"
   ]
  },
  {
   "cell_type": "code",
   "execution_count": 5,
   "metadata": {},
   "outputs": [
    {
     "name": "stdout",
     "output_type": "stream",
     "text": [
      "['testing', 'testing-unpooled', 'ViT-Ti_16', 'ViT-S_16', 'ViT-B_16', 'ViT-L_16', 'ViT-H_14', 'ViT-S_16-gap-norep', 'ViT-B_16-gap-norep', 'ViT-B_8', 'ViT-S_32', 'ViT-B_32', 'ViT-L_32', 'ViT-S_32-gap-norep', 'ViT-B_32-gap-norep', 'R+ViT-Ti_16', 'R50+ViT-B_16', 'R26+ViT-B_32', 'R26+ViT-S_32', 'R50+ViT-L_32', 'Mixer-B_16', 'Mixer-B_32', 'Mixer-L_16', 'LiT-B16B', 'LiT-B16B_2', 'LiT-L16L', 'LiT-L16S', 'LiT-L16Ti']\n",
      "['LiT-B16B', 'LiT-B16B_2', 'LiT-L16L', 'LiT-L16S', 'LiT-L16Ti']\n"
     ]
    }
   ],
   "source": [
    "from vit_jax import models\n",
    "\n",
    "print([name for name in models.model_configs.MODEL_CONFIGS])\n",
    "print([name for name in models.model_configs.MODEL_CONFIGS if name.startswith('LiT')])"
   ]
  },
  {
   "cell_type": "code",
   "execution_count": null,
   "metadata": {},
   "outputs": [],
   "source": []
  }
 ],
 "metadata": {
  "kernelspec": {
   "display_name": "Python 3",
   "language": "python",
   "name": "python3"
  },
  "language_info": {
   "codemirror_mode": {
    "name": "ipython",
    "version": 3
   },
   "file_extension": ".py",
   "mimetype": "text/x-python",
   "name": "python",
   "nbconvert_exporter": "python",
   "pygments_lexer": "ipython3",
   "version": "3.11.9"
  }
 },
 "nbformat": 4,
 "nbformat_minor": 2
}
