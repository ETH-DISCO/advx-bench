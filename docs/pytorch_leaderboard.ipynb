{
 "cells": [
  {
   "cell_type": "code",
   "execution_count": 2,
   "metadata": {},
   "outputs": [
    {
     "name": "stdout",
     "output_type": "stream",
     "text": [
      "Cloning into 'pytorch-image-models'...\n",
      "remote: Enumerating objects: 577, done.\u001b[K\n",
      "remote: Counting objects: 100% (577/577), done.\u001b[K\n",
      "remote: Compressing objects: 100% (409/409), done.\u001b[K\n",
      "remote: Total 577 (delta 224), reused 371 (delta 162), pack-reused 0\u001b[K\n",
      "Receiving objects: 100% (577/577), 2.55 MiB | 9.27 MiB/s, done.\n",
      "Resolving deltas: 100% (224/224), done.\n",
      "/Users/sueszli/dev/advx-bench/docs/pytorch-image-models/results\n"
     ]
    }
   ],
   "source": [
    "! git clone --depth 1 https://github.com/rwightman/pytorch-image-models.git\n",
    "%cd pytorch-image-models/results"
   ]
  },
  {
   "cell_type": "code",
   "execution_count": 7,
   "metadata": {},
   "outputs": [
    {
     "data": {
      "application/vnd.plotly.v1+json": {
       "config": {
        "plotlyServerURL": "https://plot.ly"
       },
       "data": [
        {
         "customdata": [
          [
           224
          ],
          [
           224
          ],
          [
           224
          ],
          [
           224
          ],
          [
           224
          ]
         ],
         "hovertemplate": "<b>%{hovertext}</b><br><br>family=levit<br>secs=%{x}<br>top1=%{y}<br>size=%{marker.size}<br>infer_img_size=%{customdata[0]}<extra></extra>",
         "hovertext": [
          "levit_128s.fb_dist_in1k",
          "levit_128.fb_dist_in1k",
          "levit_192.fb_dist_in1k",
          "levit_256.fb_dist_in1k",
          "levit_384.fb_dist_in1k"
         ],
         "legendgroup": "levit",
         "marker": {
          "color": "#636efa",
          "size": [
           50176,
           50176,
           50176,
           50176,
           50176
          ],
          "sizemode": "area",
          "sizeref": 655.36,
          "symbol": "circle"
         },
         "mode": "markers",
         "name": "levit",
         "orientation": "v",
         "showlegend": true,
         "type": "scatter",
         "x": [
          0.00004654236751715086,
          0.00006822292249261998,
          0.00007756230968148262,
          0.00010599687945186893,
          0.00017720128293728847
         ],
         "xaxis": "x",
         "y": [
          76.526,
          78.49,
          79.838,
          81.524,
          82.596
         ],
         "yaxis": "y"
        },
        {
         "customdata": [
          [
           224
          ],
          [
           224
          ],
          [
           224
          ],
          [
           224
          ],
          [
           224
          ],
          [
           224
          ],
          [
           224
          ],
          [
           224
          ],
          [
           224
          ],
          [
           224
          ],
          [
           224
          ],
          [
           224
          ],
          [
           224
          ],
          [
           224
          ],
          [
           224
          ],
          [
           224
          ],
          [
           224
          ],
          [
           224
          ]
         ],
         "hovertemplate": "<b>%{hovertext}</b><br><br>family=regnetx<br>secs=%{x}<br>top1=%{y}<br>size=%{marker.size}<br>infer_img_size=%{customdata[0]}<extra></extra>",
         "hovertext": [
          "regnetx_002.pycls_in1k",
          "regnetx_004.pycls_in1k",
          "regnetx_008.tv2_in1k",
          "regnetx_008.pycls_in1k",
          "regnetx_006.pycls_in1k",
          "regnetx_016.tv2_in1k",
          "regnetx_016.pycls_in1k",
          "regnetx_032.tv2_in1k",
          "regnetx_032.pycls_in1k",
          "regnetx_040.pycls_in1k",
          "regnetx_080.tv2_in1k",
          "regnetx_080.pycls_in1k",
          "regnetx_064.pycls_in1k",
          "regnetx_120.pycls_in1k",
          "regnetx_160.tv2_in1k",
          "regnetx_160.pycls_in1k",
          "regnetx_320.tv2_in1k",
          "regnetx_320.pycls_in1k"
         ],
         "legendgroup": "regnetx",
         "marker": {
          "color": "#EF553B",
          "size": [
           50176,
           50176,
           50176,
           50176,
           50176,
           50176,
           50176,
           50176,
           50176,
           50176,
           50176,
           50176,
           50176,
           50176,
           50176,
           50176,
           50176,
           50176
          ],
          "sizemode": "area",
          "sizeref": 655.36,
          "symbol": "circle"
         },
         "mode": "markers",
         "name": "regnetx",
         "orientation": "v",
         "showlegend": true,
         "type": "scatter",
         "x": [
          0.00005611048828469115,
          0.00006925193368711838,
          0.00011822399190402103,
          0.00011822399190402103,
          0.0001259786970023369,
          0.00026479614668647344,
          0.00026479614668647344,
          0.0006228278877415016,
          0.0006228278877415016,
          0.0006304057291272663,
          0.0007938902208602596,
          0.0007938902208602596,
          0.0008572212316554657,
          0.0012854296548621376,
          0.001604157977477622,
          0.001604157977477622,
          0.0038134462113411888,
          0.0038134462113411888
         ],
         "xaxis": "x",
         "y": [
          68.752,
          72.402,
          77.306,
          75.028,
          73.868,
          79.436,
          76.924,
          80.926,
          78.168,
          78.492,
          81.54,
          79.198,
          79.066,
          79.588,
          82.566,
          79.866,
          82.81,
          80.246
         ],
         "yaxis": "y"
        },
        {
         "customdata": [
          [
           224
          ],
          [
           224
          ],
          [
           224
          ],
          [
           224
          ],
          [
           224
          ],
          [
           224
          ],
          [
           224
          ],
          [
           288
          ],
          [
           288
          ],
          [
           288
          ],
          [
           288
          ],
          [
           288
          ],
          [
           224
          ],
          [
           224
          ],
          [
           288
          ],
          [
           288
          ],
          [
           288
          ],
          [
           288
          ],
          [
           224
          ],
          [
           224
          ],
          [
           224
          ],
          [
           224
          ],
          [
           224
          ],
          [
           288
          ],
          [
           288
          ],
          [
           288
          ],
          [
           288
          ],
          [
           288
          ],
          [
           288
          ],
          [
           288
          ]
         ],
         "hovertemplate": "<b>%{hovertext}</b><br><br>family=regnety<br>secs=%{x}<br>top1=%{y}<br>size=%{marker.size}<br>infer_img_size=%{customdata[0]}<extra></extra>",
         "hovertext": [
          "regnety_002.pycls_in1k",
          "regnety_006.pycls_in1k",
          "regnety_004.tv2_in1k",
          "regnety_004.pycls_in1k",
          "regnety_008.pycls_in1k",
          "regnety_016.tv2_in1k",
          "regnety_016.pycls_in1k",
          "regnety_032.ra_in1k",
          "regnety_032.tv2_in1k",
          "regnety_032.pycls_in1k",
          "regnety_040.ra3_in1k",
          "regnety_040.pycls_in1k",
          "regnety_120.sw_in12k_ft_in1k",
          "regnety_120.pycls_in1k",
          "regnety_080.ra3_in1k",
          "regnety_080.pycls_in1k",
          "regnety_064.ra3_in1k",
          "regnety_064.pycls_in1k",
          "regnety_320.swag_ft_in1k",
          "regnety_320.swag_lc_in1k",
          "regnety_320.seer_ft_in1k",
          "regnety_320.tv2_in1k",
          "regnety_320.pycls_in1k",
          "regnety_160.swag_ft_in1k",
          "regnety_160.lion_in12k_ft_in1k",
          "regnety_160.sw_in12k_ft_in1k",
          "regnety_160.swag_lc_in1k",
          "regnety_160.deit_in1k",
          "regnety_160.tv2_in1k",
          "regnety_160.pycls_in1k"
         ],
         "legendgroup": "regnety",
         "marker": {
          "color": "#00cc96",
          "size": [
           50176,
           50176,
           50176,
           50176,
           50176,
           50176,
           50176,
           82944,
           82944,
           82944,
           82944,
           82944,
           50176,
           50176,
           82944,
           82944,
           82944,
           82944,
           50176,
           50176,
           50176,
           50176,
           50176,
           82944,
           82944,
           82944,
           82944,
           82944,
           82944,
           82944
          ],
          "sizemode": "area",
          "sizeref": 655.36,
          "symbol": "circle"
         },
         "mode": "markers",
         "name": "regnety",
         "orientation": "v",
         "showlegend": true,
         "type": "scatter",
         "x": [
          0.000059976920880845045,
          0.00010017450398594352,
          0.00010468376082691796,
          0.00010468376082691796,
          0.00012704688411164372,
          0.00029335406368716726,
          0.00029335406368716726,
          0.0007311277645768598,
          0.0007311277645768598,
          0.0007311277645768598,
          0.0011773986554107355,
          0.0011773986554107355,
          0.0013256445946841651,
          0.0013256445946841651,
          0.0018643499011894553,
          0.0018643499011894553,
          0.0021192726656211586,
          0.0021192726656211586,
          0.002407666008571291,
          0.002407666008571291,
          0.002407666008571291,
          0.002407666008571291,
          0.002407666008571291,
          0.0024128362890577875,
          0.0024128362890577875,
          0.0024128362890577875,
          0.0024128362890577875,
          0.0024128362890577875,
          0.0024128362890577875,
          0.0024128362890577875
         ],
         "xaxis": "x",
         "y": [
          70.28,
          75.268,
          75.594,
          74.026,
          76.302,
          80.666,
          77.868,
          82.726,
          81.756,
          78.876,
          83.044,
          79.22,
          85.4,
          80.38,
          83.926,
          79.868,
          83.72,
          79.716,
          86.834,
          84.548,
          83.328,
          83.162,
          80.81,
          86.02,
          85.988,
          85.986,
          83.782,
          83.69,
          82.646,
          80.298
         ],
         "yaxis": "y"
        },
        {
         "customdata": [
          [
           224
          ],
          [
           224
          ],
          [
           224
          ],
          [
           224
          ],
          [
           224
          ],
          [
           224
          ],
          [
           384
          ],
          [
           224
          ],
          [
           224
          ],
          [
           384
          ],
          [
           224
          ],
          [
           384
          ],
          [
           384
          ],
          [
           384
          ],
          [
           224
          ],
          [
           224
          ],
          [
           224
          ],
          [
           224
          ],
          [
           224
          ],
          [
           224
          ],
          [
           224
          ],
          [
           384
          ],
          [
           384
          ],
          [
           384
          ],
          [
           384
          ],
          [
           224
          ],
          [
           384
          ],
          [
           384
          ],
          [
           384
          ],
          [
           384
          ],
          [
           224
          ],
          [
           224
          ],
          [
           384
          ],
          [
           384
          ]
         ],
         "hovertemplate": "<b>%{hovertext}</b><br><br>family=vit<br>secs=%{x}<br>top1=%{y}<br>size=%{marker.size}<br>infer_img_size=%{customdata[0]}<extra></extra>",
         "hovertext": [
          "vit_small_patch32_224.augreg_in21k_ft_in1k",
          "vit_tiny_r_s16_p8_224.augreg_in21k_ft_in1k",
          "vit_tiny_patch16_224.augreg_in21k_ft_in1k",
          "vit_base_patch32_224.augreg_in21k_ft_in1k",
          "vit_base_patch32_224.augreg_in1k",
          "vit_base_patch32_224.sam_in1k",
          "vit_small_patch32_384.augreg_in21k_ft_in1k",
          "vit_small_patch16_224.augreg_in21k_ft_in1k",
          "vit_small_patch16_224.augreg_in1k",
          "vit_tiny_r_s16_p8_384.augreg_in21k_ft_in1k",
          "vit_small_r26_s32_224.augreg_in21k_ft_in1k",
          "vit_tiny_patch16_384.augreg_in21k_ft_in1k",
          "vit_base_patch32_384.augreg_in21k_ft_in1k",
          "vit_base_patch32_384.augreg_in1k",
          "vit_base_patch16_224_miil.in21k_ft_in1k",
          "vit_base_patch16_224.augreg2_in21k_ft_in1k",
          "vit_base_patch16_224.augreg_in21k_ft_in1k",
          "vit_base_patch16_224.orig_in21k_ft_in1k",
          "vit_base_patch16_224.sam_in1k",
          "vit_base_patch16_224.augreg_in1k",
          "vit_large_r50_s32_224.augreg_in21k_ft_in1k",
          "vit_small_patch16_384.augreg_in21k_ft_in1k",
          "vit_small_patch16_384.augreg_in1k",
          "vit_small_r26_s32_384.augreg_in21k_ft_in1k",
          "vit_large_patch32_384.orig_in21k_ft_in1k",
          "vit_large_patch16_224.augreg_in21k_ft_in1k",
          "vit_base_patch16_384.augreg_in21k_ft_in1k",
          "vit_base_patch16_384.orig_in21k_ft_in1k",
          "vit_base_patch16_384.augreg_in1k",
          "vit_large_r50_s32_384.augreg_in21k_ft_in1k",
          "vit_base_patch8_224.augreg2_in21k_ft_in1k",
          "vit_base_patch8_224.augreg_in21k_ft_in1k",
          "vit_base_r50_s16_384.orig_in21k_ft_in1k",
          "vit_large_patch16_384.augreg_in21k_ft_in1k"
         ],
         "legendgroup": "vit",
         "marker": {
          "color": "#ab63fa",
          "size": [
           50176,
           50176,
           50176,
           50176,
           50176,
           50176,
           147456,
           50176,
           50176,
           147456,
           50176,
           147456,
           147456,
           147456,
           50176,
           50176,
           50176,
           50176,
           50176,
           50176,
           50176,
           147456,
           147456,
           147456,
           147456,
           50176,
           147456,
           147456,
           147456,
           147456,
           50176,
           50176,
           147456,
           147456
          ],
          "sizemode": "area",
          "sizeref": 655.36,
          "symbol": "circle"
         },
         "mode": "markers",
         "name": "vit",
         "orientation": "v",
         "showlegend": true,
         "type": "scatter",
         "x": [
          0.0000826542597112556,
          0.00010105327831992861,
          0.0001606500543800434,
          0.00023169601482854495,
          0.00023169601482854495,
          0.00023169601482854495,
          0.0002629917946560067,
          0.0003523347461956656,
          0.0003523347461956656,
          0.0003702675182819587,
          0.0005623284898106078,
          0.0006846126461648,
          0.0007257578726585237,
          0.0007257578726585237,
          0.0009018027036045053,
          0.0009315670821455853,
          0.0009315670821455853,
          0.0009315670821455853,
          0.0009315670821455853,
          0.0009315670821455853,
          0.0013855980934170233,
          0.0014628865677755345,
          0.0014628865677755345,
          0.0017152952880838436,
          0.002085723224528105,
          0.0028202380280895707,
          0.0036026948157221604,
          0.0036026948157221604,
          0.0036026948157221604,
          0.004231729507849859,
          0.005465078150617554,
          0.005465078150617554,
          0.005822416302765648,
          0.010594342621040365
         ],
         "xaxis": "x",
         "y": [
          75.994,
          71.798,
          75.462,
          80.716,
          74.894,
          73.694,
          80.486,
          81.386,
          78.848,
          75.96,
          81.864,
          78.424,
          83.352,
          78.756,
          84.266,
          85.094,
          84.532,
          81.79,
          80.238,
          79.154,
          84.418,
          83.804,
          81.116,
          84.048,
          81.51,
          85.836,
          85.994,
          84.2,
          81.102,
          86.182,
          86.218,
          85.798,
          84.976,
          87.084
         ],
         "yaxis": "y"
        },
        {
         "customdata": [
          [
           224
          ],
          [
           224
          ],
          [
           224
          ],
          [
           224
          ],
          [
           224
          ],
          [
           224
          ],
          [
           224
          ],
          [
           224
          ],
          [
           224
          ],
          [
           224
          ],
          [
           224
          ],
          [
           224
          ],
          [
           224
          ],
          [
           224
          ],
          [
           256
          ],
          [
           224
          ],
          [
           224
          ],
          [
           224
          ],
          [
           224
          ],
          [
           224
          ],
          [
           224
          ],
          [
           224
          ],
          [
           224
          ],
          [
           224
          ],
          [
           224
          ],
          [
           224
          ],
          [
           224
          ],
          [
           224
          ],
          [
           224
          ],
          [
           224
          ],
          [
           224
          ],
          [
           224
          ],
          [
           224
          ],
          [
           256
          ],
          [
           256
          ],
          [
           224
          ],
          [
           224
          ],
          [
           224
          ],
          [
           224
          ],
          [
           224
          ],
          [
           224
          ],
          [
           224
          ],
          [
           288
          ],
          [
           288
          ],
          [
           224
          ],
          [
           224
          ],
          [
           224
          ],
          [
           224
          ],
          [
           224
          ],
          [
           224
          ],
          [
           224
          ]
         ],
         "hovertemplate": "<b>%{hovertext}</b><br><br>family=resnet<br>secs=%{x}<br>top1=%{y}<br>size=%{marker.size}<br>infer_img_size=%{customdata[0]}<extra></extra>",
         "hovertext": [
          "resnet18.fb_swsl_ig1b_ft_in1k",
          "resnet18.a1_in1k",
          "resnet18.fb_ssl_yfcc100m_ft_in1k",
          "resnet18.a2_in1k",
          "resnet18.gluon_in1k",
          "resnet18.tv_in1k",
          "resnet18.a3_in1k",
          "resnet34.a1_in1k",
          "resnet34.a2_in1k",
          "resnet34.bt_in1k",
          "resnet34.gluon_in1k",
          "resnet34.tv_in1k",
          "resnet34.a3_in1k",
          "resnet26.bt_in1k",
          "resnet26t.ra2_in1k",
          "resnet50.a1_in1k",
          "resnet50.fb_swsl_ig1b_ft_in1k",
          "resnet50.d_in1k",
          "resnet50.c1_in1k",
          "resnet50.c2_in1k",
          "resnet50.tv2_in1k",
          "resnet50.a2_in1k",
          "resnet50.b1k_in1k",
          "resnet50.a1h_in1k",
          "resnet50.b2k_in1k",
          "resnet50.ram_in1k",
          "resnet50.ra_in1k",
          "resnet50.bt_in1k",
          "resnet50.fb_ssl_yfcc100m_ft_in1k",
          "resnet50.am_in1k",
          "resnet50.a3_in1k",
          "resnet50.gluon_in1k",
          "resnet50.tv_in1k",
          "resnet32ts.ra2_in1k",
          "resnet33ts.ra2_in1k",
          "resnet101.a1h_in1k",
          "resnet101.a1_in1k",
          "resnet101.a2_in1k",
          "resnet101.tv2_in1k",
          "resnet101.a3_in1k",
          "resnet101.gluon_in1k",
          "resnet101.tv_in1k",
          "resnet51q.ra2_in1k",
          "resnet61q.ra2_in1k",
          "resnet152.a1h_in1k",
          "resnet152.a1_in1k",
          "resnet152.a2_in1k",
          "resnet152.tv2_in1k",
          "resnet152.a3_in1k",
          "resnet152.gluon_in1k",
          "resnet152.tv_in1k"
         ],
         "legendgroup": "resnet",
         "marker": {
          "color": "#FFA15A",
          "size": [
           50176,
           50176,
           50176,
           50176,
           50176,
           50176,
           50176,
           50176,
           50176,
           50176,
           50176,
           50176,
           50176,
           50176,
           65536,
           50176,
           50176,
           50176,
           50176,
           50176,
           50176,
           50176,
           50176,
           50176,
           50176,
           50176,
           50176,
           50176,
           50176,
           50176,
           50176,
           50176,
           50176,
           65536,
           65536,
           50176,
           50176,
           50176,
           50176,
           50176,
           50176,
           50176,
           82944,
           82944,
           50176,
           50176,
           50176,
           50176,
           50176,
           50176,
           50176
          ],
          "sizemode": "area",
          "sizeref": 655.36,
          "symbol": "circle"
         },
         "mode": "markers",
         "name": "resnet",
         "orientation": "v",
         "showlegend": true,
         "type": "scatter",
         "x": [
          0.00009236979323021786,
          0.00009236979323021786,
          0.00009236979323021786,
          0.00009236979323021786,
          0.00009236979323021786,
          0.00009236979323021786,
          0.00009236979323021786,
          0.00015969338869370808,
          0.00015969338869370808,
          0.00015969338869370808,
          0.00015969338869370808,
          0.00015969338869370808,
          0.00015969338869370808,
          0.00017561482751111642,
          0.0002638710409448694,
          0.00028338807446305045,
          0.00028338807446305045,
          0.00028338807446305045,
          0.00028338807446305045,
          0.00028338807446305045,
          0.00028338807446305045,
          0.00028338807446305045,
          0.00028338807446305045,
          0.00028338807446305045,
          0.00028338807446305045,
          0.00028338807446305045,
          0.00028338807446305045,
          0.00028338807446305045,
          0.00028338807446305045,
          0.00028338807446305045,
          0.00028338807446305045,
          0.00028338807446305045,
          0.00028338807446305045,
          0.00029286350217890445,
          0.00029674294938752255,
          0.00046063207933926936,
          0.00046063207933926936,
          0.00046063207933926936,
          0.00046063207933926936,
          0.00046063207933926936,
          0.00046063207933926936,
          0.00046063207933926936,
          0.000534896657965681,
          0.0005959830740806961,
          0.0006634335339114052,
          0.0006634335339114052,
          0.0006634335339114052,
          0.0006634335339114052,
          0.0006634335339114052,
          0.0006634335339114052,
          0.0006634335339114052
         ],
         "xaxis": "x",
         "y": [
          73.288,
          73.158,
          72.598,
          72.372,
          70.834,
          69.76,
          68.252,
          77.918,
          77.158,
          76.48,
          74.58,
          73.306,
          72.97,
          76.366,
          78.328,
          81.214,
          81.172,
          80.972,
          80.912,
          80.87,
          80.848,
          80.772,
          80.706,
          80.678,
          80.454,
          79.976,
          79.836,
          79.64,
          79.23,
          79.002,
          78.048,
          77.582,
          76.128,
          79.388,
          79.726,
          82.778,
          82.322,
          82.236,
          81.888,
          79.814,
          79.31,
          77.38,
          82.36,
          82.524,
          83.45,
          82.732,
          82.608,
          82.286,
          80.546,
          79.696,
          78.322
         ],
         "yaxis": "y"
        },
        {
         "customdata": [
          [
           224
          ],
          [
           224
          ],
          [
           240
          ],
          [
           224
          ],
          [
           224
          ],
          [
           256
          ],
          [
           260
          ],
          [
           240
          ],
          [
           288
          ],
          [
           300
          ],
          [
           320
          ],
          [
           300
          ],
          [
           300
          ],
          [
           384
          ],
          [
           456
          ]
         ],
         "hovertemplate": "<b>%{hovertext}</b><br><br>family=efficientnet<br>secs=%{x}<br>top1=%{y}<br>size=%{marker.size}<br>infer_img_size=%{customdata[0]}<extra></extra>",
         "hovertext": [
          "efficientnet_lite0.ra_in1k",
          "efficientnet_b0.ra_in1k",
          "efficientnet_b1_pruned.in1k",
          "efficientnet_es.ra_in1k",
          "efficientnet_es_pruned.in1k",
          "efficientnet_b1.ft_in1k",
          "efficientnet_b2_pruned.in1k",
          "efficientnet_em.ra2_in1k",
          "efficientnet_b2.ra_in1k",
          "efficientnet_b3_pruned.in1k",
          "efficientnet_b3.ra2_in1k",
          "efficientnet_el.ra_in1k",
          "efficientnet_el_pruned.in1k",
          "efficientnet_b4.ra2_in1k",
          "efficientnet_b5.sw_in12k_ft_in1k"
         ],
         "legendgroup": "efficientnet",
         "marker": {
          "color": "#19d3f3",
          "size": [
           50176,
           50176,
           57600,
           50176,
           50176,
           65536,
           67600,
           57600,
           82944,
           90000,
           102400,
           90000,
           90000,
           147456,
           207936
          ],
          "sizemode": "area",
          "sizeref": 655.36,
          "symbol": "circle"
         },
         "mode": "markers",
         "name": "efficientnet",
         "orientation": "v",
         "showlegend": true,
         "type": "scatter",
         "x": [
          0.00011112172940969915,
          0.0001301779923689661,
          0.00016600486062231902,
          0.00017507769072525934,
          0.00017510804166170527,
          0.00024378530315921374,
          0.0002616848842960284,
          0.0002911538719097656,
          0.00032120258246876303,
          0.00032275451614256713,
          0.000539647933688062,
          0.0006642355645005945,
          0.0006644474123095528,
          0.0010264938051098862,
          0.0021380313007782433
         ],
         "xaxis": "x",
         "y": [
          75.482,
          77.694,
          78.24,
          78.058,
          75.006,
          78.8,
          79.92,
          79.244,
          80.61,
          80.852,
          82.246,
          81.312,
          80.298,
          83.414,
          85.896
         ],
         "yaxis": "y"
        },
        {
         "customdata": [
          [
           224
          ],
          [
           224
          ],
          [
           224
          ],
          [
           224
          ],
          [
           224
          ],
          [
           224
          ],
          [
           224
          ],
          [
           224
          ],
          [
           320
          ],
          [
           320
          ],
          [
           320
          ],
          [
           320
          ],
          [
           320
          ]
         ],
         "hovertemplate": "<b>%{hovertext}</b><br><br>family=resnetd<br>secs=%{x}<br>top1=%{y}<br>size=%{marker.size}<br>infer_img_size=%{customdata[0]}<extra></extra>",
         "hovertext": [
          "resnet18d.ra2_in1k",
          "resnet34d.ra2_in1k",
          "resnet26d.bt_in1k",
          "resnet50d.a1_in1k",
          "resnet50d.ra2_in1k",
          "resnet50d.a2_in1k",
          "resnet50d.gluon_in1k",
          "resnet50d.a3_in1k",
          "resnet101d.ra2_in1k",
          "resnet101d.gluon_in1k",
          "resnet152d.ra2_in1k",
          "resnet152d.gluon_in1k",
          "resnet200d.ra2_in1k"
         ],
         "legendgroup": "resnetd",
         "marker": {
          "color": "#FF6692",
          "size": [
           50176,
           50176,
           50176,
           50176,
           50176,
           50176,
           50176,
           50176,
           102400,
           102400,
           102400,
           102400,
           102400
          ],
          "sizemode": "area",
          "sizeref": 655.36,
          "symbol": "circle"
         },
         "mode": "markers",
         "name": "resnetd",
         "orientation": "v",
         "showlegend": true,
         "type": "scatter",
         "x": [
          0.00011218547400045547,
          0.00017947263760167124,
          0.0002044542400742578,
          0.00031235065734195835,
          0.00031235065734195835,
          0.00031235065734195835,
          0.00031235065734195835,
          0.00031235065734195835,
          0.0010008807750820723,
          0.0010008807750820723,
          0.0014054023666975855,
          0.0014054023666975855,
          0.0019066503965832825
         ],
         "xaxis": "x",
         "y": [
          73.794,
          78.436,
          77.408,
          81.45,
          81.356,
          81.164,
          79.078,
          78.72,
          83.02,
          80.426,
          83.684,
          80.476,
          83.964
         ],
         "yaxis": "y"
        },
        {
         "customdata": [
          [
           256
          ],
          [
           256
          ],
          [
           256
          ]
         ],
         "hovertemplate": "<b>%{hovertext}</b><br><br>family=mobilevit<br>secs=%{x}<br>top1=%{y}<br>size=%{marker.size}<br>infer_img_size=%{customdata[0]}<extra></extra>",
         "hovertext": [
          "mobilevit_xxs.cvnets_in1k",
          "mobilevit_xs.cvnets_in1k",
          "mobilevit_s.cvnets_in1k"
         ],
         "legendgroup": "mobilevit",
         "marker": {
          "color": "#B6E880",
          "size": [
           65536,
           65536,
           65536
          ],
          "sizemode": "area",
          "sizeref": 655.36,
          "symbol": "circle"
         },
         "mode": "markers",
         "name": "mobilevit",
         "orientation": "v",
         "showlegend": true,
         "type": "scatter",
         "x": [
          0.00019510063290645313,
          0.00032276493352656195,
          0.0004140683875348853
         ],
         "xaxis": "x",
         "y": [
          68.918,
          74.634,
          78.312
         ],
         "yaxis": "y"
        },
        {
         "customdata": [
          [
           224
          ],
          [
           224
          ],
          [
           224
          ],
          [
           224
          ],
          [
           224
          ],
          [
           224
          ],
          [
           224
          ],
          [
           224
          ]
         ],
         "hovertemplate": "<b>%{hovertext}</b><br><br>family=repvgg<br>secs=%{x}<br>top1=%{y}<br>size=%{marker.size}<br>infer_img_size=%{customdata[0]}<extra></extra>",
         "hovertext": [
          "repvgg_b0.rvgg_in1k",
          "repvgg_a2.rvgg_in1k",
          "repvgg_b1.rvgg_in1k",
          "repvgg_b1g4.rvgg_in1k",
          "repvgg_b2.rvgg_in1k",
          "repvgg_b3.rvgg_in1k",
          "repvgg_b2g4.rvgg_in1k",
          "repvgg_b3g4.rvgg_in1k"
         ],
         "legendgroup": "repvgg",
         "marker": {
          "color": "#FF97FF",
          "size": [
           50176,
           50176,
           50176,
           50176,
           50176,
           50176,
           50176,
           50176
          ],
          "sizemode": "area",
          "sizeref": 655.36,
          "symbol": "circle"
         },
         "mode": "markers",
         "name": "repvgg",
         "orientation": "v",
         "showlegend": true,
         "type": "scatter",
         "x": [
          0.00019805588344807372,
          0.00025848743492578826,
          0.0005164995790528431,
          0.0006192755714365336,
          0.0008039813154742284,
          0.0009981932701809725,
          0.0012302090125112257,
          0.0015526503741887404
         ],
         "xaxis": "x",
         "y": [
          75.144,
          76.458,
          78.368,
          77.588,
          78.792,
          80.506,
          79.382,
          80.216
         ],
         "yaxis": "y"
        },
        {
         "customdata": [
          [
           240
          ],
          [
           240
          ],
          [
           240
          ],
          [
           240
          ],
          [
           240
          ],
          [
           240
          ],
          [
           240
          ],
          [
           240
          ],
          [
           240
          ],
          [
           408
          ],
          [
           408
          ]
         ],
         "hovertemplate": "<b>%{hovertext}</b><br><br>family=crossvit<br>secs=%{x}<br>top1=%{y}<br>size=%{marker.size}<br>infer_img_size=%{customdata[0]}<extra></extra>",
         "hovertext": [
          "crossvit_tiny_240.in1k",
          "crossvit_9_240.in1k",
          "crossvit_9_dagger_240.in1k",
          "crossvit_small_240.in1k",
          "crossvit_15_240.in1k",
          "crossvit_15_dagger_240.in1k",
          "crossvit_18_240.in1k",
          "crossvit_18_dagger_240.in1k",
          "crossvit_base_240.in1k",
          "crossvit_15_dagger_408.in1k",
          "crossvit_18_dagger_408.in1k"
         ],
         "legendgroup": "crossvit",
         "marker": {
          "color": "#FECB52",
          "size": [
           57600,
           57600,
           57600,
           57600,
           57600,
           57600,
           57600,
           57600,
           57600,
           166464,
           166464
          ],
          "sizemode": "area",
          "sizeref": 655.36,
          "symbol": "circle"
         },
         "mode": "markers",
         "name": "crossvit",
         "orientation": "v",
         "showlegend": true,
         "type": "scatter",
         "x": [
          0.00025943432938820195,
          0.0002746551018558445,
          0.0002807190900209978,
          0.0005422640609070993,
          0.0005881107530170082,
          0.0006054331571522846,
          0.0008294969101240098,
          0.0008531185749507324,
          0.0013383297644539614,
          0.002823662289990117,
          0.0038593647485623862
         ],
         "xaxis": "x",
         "y": [
          73.34,
          73.96,
          76.978,
          81.018,
          81.536,
          82.33,
          82.4,
          82.518,
          82.214,
          83.84,
          84.202
         ],
         "yaxis": "y"
        },
        {
         "customdata": [
          [
           224
          ],
          [
           224
          ]
         ],
         "hovertemplate": "<b>%{hovertext}</b><br><br>family=resnetv2<br>secs=%{x}<br>top1=%{y}<br>size=%{marker.size}<br>infer_img_size=%{customdata[0]}<extra></extra>",
         "hovertext": [
          "resnetv2_50.a1h_in1k",
          "resnetv2_101.a1h_in1k"
         ],
         "legendgroup": "resnetv2",
         "marker": {
          "color": "#636efa",
          "size": [
           50176,
           50176
          ],
          "sizemode": "area",
          "sizeref": 655.36,
          "symbol": "circle"
         },
         "mode": "markers",
         "name": "resnetv2",
         "orientation": "v",
         "showlegend": true,
         "type": "scatter",
         "x": [
          0.00027003891260730673,
          0.0004473172150030194
         ],
         "xaxis": "x",
         "y": [
          81.398,
          83
         ],
         "yaxis": "y"
        },
        {
         "customdata": [
          [
           224
          ],
          [
           224
          ],
          [
           224
          ]
         ],
         "hovertemplate": "<b>%{hovertext}</b><br><br>family=convit<br>secs=%{x}<br>top1=%{y}<br>size=%{marker.size}<br>infer_img_size=%{customdata[0]}<extra></extra>",
         "hovertext": [
          "convit_tiny.fb_in1k",
          "convit_small.fb_in1k",
          "convit_base.fb_in1k"
         ],
         "legendgroup": "convit",
         "marker": {
          "color": "#EF553B",
          "size": [
           50176,
           50176,
           50176
          ],
          "sizemode": "area",
          "sizeref": 655.36,
          "symbol": "circle"
         },
         "mode": "markers",
         "name": "convit",
         "orientation": "v",
         "showlegend": true,
         "type": "scatter",
         "x": [
          0.0003142578800163414,
          0.0007307163943530237,
          0.0014544608313698112
         ],
         "xaxis": "x",
         "y": [
          73.112,
          81.42,
          82.29
         ],
         "yaxis": "y"
        },
        {
         "customdata": [
          [
           224
          ],
          [
           224
          ]
         ],
         "hovertemplate": "<b>%{hovertext}</b><br><br>family=resnetaad<br>secs=%{x}<br>top1=%{y}<br>size=%{marker.size}<br>infer_img_size=%{customdata[0]}<extra></extra>",
         "hovertext": [
          "resnetaa50d.sw_in12k_ft_in1k",
          "resnetaa101d.sw_in12k_ft_in1k"
         ],
         "legendgroup": "resnetaad",
         "marker": {
          "color": "#00cc96",
          "size": [
           50176,
           50176
          ],
          "sizemode": "area",
          "sizeref": 655.36,
          "symbol": "circle"
         },
         "mode": "markers",
         "name": "resnetaad",
         "orientation": "v",
         "showlegend": true,
         "type": "scatter",
         "x": [
          0.00034852799202567954,
          0.0005280918457338101
         ],
         "xaxis": "x",
         "y": [
          82.6,
          84.124
         ],
         "yaxis": "y"
        },
        {
         "customdata": [
          [
           224
          ],
          [
           288
          ],
          [
           320
          ],
          [
           320
          ],
          [
           352
          ],
          [
           384
          ],
          [
           416
          ]
         ],
         "hovertemplate": "<b>%{hovertext}</b><br><br>family=resnetrs<br>secs=%{x}<br>top1=%{y}<br>size=%{marker.size}<br>infer_img_size=%{customdata[0]}<extra></extra>",
         "hovertext": [
          "resnetrs50.tf_in1k",
          "resnetrs101.tf_in1k",
          "resnetrs152.tf_in1k",
          "resnetrs200.tf_in1k",
          "resnetrs270.tf_in1k",
          "resnetrs350.tf_in1k",
          "resnetrs420.tf_in1k"
         ],
         "legendgroup": "resnetrs",
         "marker": {
          "color": "#ab63fa",
          "size": [
           50176,
           82944,
           102400,
           102400,
           123904,
           147456,
           173056
          ],
          "sizemode": "area",
          "sizeref": 655.36,
          "symbol": "circle"
         },
         "mode": "markers",
         "name": "resnetrs",
         "orientation": "v",
         "showlegend": true,
         "type": "scatter",
         "x": [
          0.000351576645466595,
          0.0009125586318920991,
          0.0015921792156925183,
          0.0021917327839389824,
          0.0034781398907864076,
          0.005297171310520182,
          0.007450454477723141
         ],
         "xaxis": "x",
         "y": [
          79.894,
          82.284,
          83.702,
          84.444,
          84.428,
          84.714,
          85.004
         ],
         "yaxis": "y"
        },
        {
         "customdata": [
          [
           288
          ],
          [
           320
          ],
          [
           320
          ],
          [
           320
          ],
          [
           320
          ],
          [
           320
          ],
          [
           320
          ],
          [
           320
          ]
         ],
         "hovertemplate": "<b>%{hovertext}</b><br><br>family=regnetz<br>secs=%{x}<br>top1=%{y}<br>size=%{marker.size}<br>infer_img_size=%{customdata[0]}<extra></extra>",
         "hovertext": [
          "regnetz_b16.ra3_in1k",
          "regnetz_c16.ra3_in1k",
          "regnetz_d8.ra3_in1k",
          "regnetz_040.ra3_in1k",
          "regnetz_d32.ra3_in1k",
          "regnetz_e8.ra3_in1k",
          "regnetz_c16_evos.ch_in1k",
          "regnetz_d8_evos.ch_in1k"
         ],
         "legendgroup": "regnetz",
         "marker": {
          "color": "#FFA15A",
          "size": [
           82944,
           102400,
           102400,
           102400,
           102400,
           102400,
           102400,
           102400
          ],
          "sizemode": "area",
          "sizeref": 655.36,
          "symbol": "circle"
         },
         "mode": "markers",
         "name": "regnetz",
         "orientation": "v",
         "showlegend": true,
         "type": "scatter",
         "x": [
          0.00036824952587873543,
          0.0005641494319015222,
          0.0008748829844008363,
          0.000961917679085024,
          0.0009901872444079175,
          0.0016463344363774057,
          0.00167117884956048,
          0.002579646588417387
         ],
         "xaxis": "x",
         "y": [
          80.728,
          82.632,
          84.052,
          84.24,
          84.022,
          85.034,
          82.636,
          84.126
         ],
         "yaxis": "y"
        },
        {
         "customdata": [
          [
           224
          ]
         ],
         "hovertemplate": "<b>%{hovertext}</b><br><br>family=resnetblur<br>secs=%{x}<br>top1=%{y}<br>size=%{marker.size}<br>infer_img_size=%{customdata[0]}<extra></extra>",
         "hovertext": [
          "resnetblur50.bt_in1k"
         ],
         "legendgroup": "resnetblur",
         "marker": {
          "color": "#19d3f3",
          "size": [
           50176
          ],
          "sizemode": "area",
          "sizeref": 655.36,
          "symbol": "circle"
         },
         "mode": "markers",
         "name": "resnetblur",
         "orientation": "v",
         "showlegend": true,
         "type": "scatter",
         "x": [
          0.00038181346121538863
         ],
         "xaxis": "x",
         "y": [
          80.234
         ],
         "yaxis": "y"
        },
        {
         "customdata": [
          [
           224
          ],
          [
           224
          ],
          [
           224
          ],
          [
           224
          ],
          [
           224
          ],
          [
           224
          ],
          [
           224
          ]
         ],
         "hovertemplate": "<b>%{hovertext}</b><br><br>family=vgg<br>secs=%{x}<br>top1=%{y}<br>size=%{marker.size}<br>infer_img_size=%{customdata[0]}<extra></extra>",
         "hovertext": [
          "vgg11_bn.tv_in1k",
          "vgg13.tv_in1k",
          "vgg13_bn.tv_in1k",
          "vgg16.tv_in1k",
          "vgg19.tv_in1k",
          "vgg16_bn.tv_in1k",
          "vgg19_bn.tv_in1k"
         ],
         "legendgroup": "vgg",
         "marker": {
          "color": "#FF6692",
          "size": [
           50176,
           50176,
           50176,
           50176,
           50176,
           50176,
           50176
          ],
          "sizemode": "area",
          "sizeref": 655.36,
          "symbol": "circle"
         },
         "mode": "markers",
         "name": "vgg",
         "orientation": "v",
         "showlegend": true,
         "type": "scatter",
         "x": [
          0.0003856239395341663,
          0.000495051955702751,
          0.000609002271578473,
          0.00061273383454961,
          0.0007314379338341244,
          0.0007335465508641178,
          0.0008591212907438273
         ],
         "xaxis": "x",
         "y": [
          70.382,
          69.932,
          71.588,
          71.592,
          72.378,
          73.37,
          74.216
         ],
         "yaxis": "y"
        },
        {
         "customdata": [
          [
           288
          ],
          [
           384
          ],
          [
           416
          ]
         ],
         "hovertemplate": "<b>%{hovertext}</b><br><br>family=efficientnetv2<br>secs=%{x}<br>top1=%{y}<br>size=%{marker.size}<br>infer_img_size=%{customdata[0]}<extra></extra>",
         "hovertext": [
          "efficientnetv2_rw_t.ra2_in1k",
          "efficientnetv2_rw_s.ra2_in1k",
          "efficientnetv2_rw_m.agc_in1k"
         ],
         "legendgroup": "efficientnetv2",
         "marker": {
          "color": "#B6E880",
          "size": [
           82944,
           147456,
           173056
          ],
          "sizemode": "area",
          "sizeref": 655.36,
          "symbol": "circle"
         },
         "mode": "markers",
         "name": "efficientnetv2",
         "orientation": "v",
         "showlegend": true,
         "type": "scatter",
         "x": [
          0.00039287790926091805,
          0.0009177342975661686,
          0.0025433643623785545
         ],
         "xaxis": "x",
         "y": [
          82.35,
          83.806,
          84.81
         ],
         "yaxis": "y"
        },
        {
         "customdata": [
          [
           224
          ],
          [
           224
          ],
          [
           224
          ],
          [
           224
          ],
          [
           224
          ],
          [
           224
          ],
          [
           224
          ],
          [
           224
          ],
          [
           224
          ],
          [
           224
          ],
          [
           224
          ],
          [
           224
          ],
          [
           224
          ],
          [
           224
          ],
          [
           224
          ],
          [
           224
          ],
          [
           224
          ],
          [
           224
          ],
          [
           224
          ],
          [
           224
          ],
          [
           224
          ]
         ],
         "hovertemplate": "<b>%{hovertext}</b><br><br>family=convnext<br>secs=%{x}<br>top1=%{y}<br>size=%{marker.size}<br>infer_img_size=%{customdata[0]}<extra></extra>",
         "hovertext": [
          "convnext_tiny.in12k_ft_in1k_384",
          "convnext_tiny.in12k_ft_in1k",
          "convnext_tiny.fb_in22k_ft_in1k_384",
          "convnext_tiny.fb_in1k",
          "convnext_tiny.fb_in22k_ft_in1k",
          "convnext_tiny_hnf.a2h_in1k",
          "convnext_small.in12k_ft_in1k_384",
          "convnext_small.fb_in22k_ft_in1k_384",
          "convnext_small.in12k_ft_in1k",
          "convnext_small.fb_in22k_ft_in1k",
          "convnext_small.fb_in1k",
          "convnext_base.clip_laion2b_augreg_ft_in12k_in1k_384",
          "convnext_base.fb_in22k_ft_in1k_384",
          "convnext_base.clip_laiona_augreg_ft_in1k_384",
          "convnext_base.clip_laion2b_augreg_ft_in12k_in1k",
          "convnext_base.fb_in22k_ft_in1k",
          "convnext_base.clip_laion2b_augreg_ft_in1k",
          "convnext_base.fb_in1k",
          "convnext_large.fb_in22k_ft_in1k_384",
          "convnext_large.fb_in22k_ft_in1k",
          "convnext_large.fb_in1k"
         ],
         "legendgroup": "convnext",
         "marker": {
          "color": "#FF97FF",
          "size": [
           50176,
           50176,
           50176,
           50176,
           50176,
           50176,
           50176,
           50176,
           50176,
           50176,
           50176,
           50176,
           50176,
           50176,
           50176,
           50176,
           50176,
           50176,
           50176,
           50176,
           50176
          ],
          "sizemode": "area",
          "sizeref": 655.36,
          "symbol": "circle"
         },
         "mode": "markers",
         "name": "convnext",
         "orientation": "v",
         "showlegend": true,
         "type": "scatter",
         "x": [
          0.00043947351073414054,
          0.00043947351073414054,
          0.00043947351073414054,
          0.00043947351073414054,
          0.00043947351073414054,
          0.00048231356169272765,
          0.0007089131652263915,
          0.0007089131652263915,
          0.0007089131652263915,
          0.0007089131652263915,
          0.0007089131652263915,
          0.001017356094980365,
          0.001017356094980365,
          0.001017356094980365,
          0.001017356094980365,
          0.001017356094980365,
          0.001017356094980365,
          0.001017356094980365,
          0.001837424665588711,
          0.001837424665588711,
          0.001837424665588711
         ],
         "xaxis": "x",
         "y": [
          85.122,
          84.45,
          84.088,
          82.698,
          78.898,
          82.584,
          86.182,
          85.778,
          85.33,
          85.262,
          83.7,
          87.134,
          86.796,
          86.502,
          86.37,
          86.274,
          86.158,
          84.428,
          87.472,
          87.026,
          84.846
         ],
         "yaxis": "y"
        },
        {
         "customdata": [
          [
           224
          ],
          [
           224
          ],
          [
           224
          ],
          [
           224
          ],
          [
           224
          ],
          [
           224
          ],
          [
           224
          ],
          [
           224
          ],
          [
           224
          ],
          [
           224
          ],
          [
           384
          ],
          [
           384
          ],
          [
           384
          ]
         ],
         "hovertemplate": "<b>%{hovertext}</b><br><br>family=swin<br>secs=%{x}<br>top1=%{y}<br>size=%{marker.size}<br>infer_img_size=%{customdata[0]}<extra></extra>",
         "hovertext": [
          "swin_tiny_patch4_window7_224.ms_in1k",
          "swin_tiny_patch4_window7_224.ms_in22k_ft_in1k",
          "swin_s3_tiny_224.ms_in1k",
          "swin_small_patch4_window7_224.ms_in22k_ft_in1k",
          "swin_small_patch4_window7_224.ms_in1k",
          "swin_s3_small_224.ms_in1k",
          "swin_base_patch4_window7_224.ms_in22k_ft_in1k",
          "swin_base_patch4_window7_224.ms_in1k",
          "swin_s3_base_224.ms_in1k",
          "swin_large_patch4_window7_224.ms_in22k_ft_in1k",
          "swin_base_patch4_window12_384.ms_in22k_ft_in1k",
          "swin_base_patch4_window12_384.ms_in1k",
          "swin_large_patch4_window12_384.ms_in22k_ft_in1k"
         ],
         "legendgroup": "swin",
         "marker": {
          "color": "#FECB52",
          "size": [
           50176,
           50176,
           50176,
           50176,
           50176,
           50176,
           50176,
           50176,
           50176,
           50176,
           147456,
           147456,
           147456
          ],
          "sizemode": "area",
          "sizeref": 655.36,
          "symbol": "circle"
         },
         "mode": "markers",
         "name": "swin",
         "orientation": "v",
         "showlegend": true,
         "type": "scatter",
         "x": [
          0.0005460184335823177,
          0.0005460184335823177,
          0.000599319173418996,
          0.0008899409969119047,
          0.0008899409969119047,
          0.0012179822905374956,
          0.001254390366281987,
          0.001254390366281987,
          0.001502765087761481,
          0.002185123678000175,
          0.004700352526439483,
          0.004700352526439483,
          0.007950389569088886
         ],
         "xaxis": "x",
         "y": [
          81.376,
          80.968,
          82.144,
          83.298,
          83.208,
          83.756,
          85.272,
          83.606,
          83.92,
          86.312,
          86.438,
          84.476,
          87.132
         ],
         "yaxis": "y"
        },
        {
         "customdata": [
          [
           224
          ],
          [
           224
          ],
          [
           384
          ],
          [
           384
          ],
          [
           512
          ]
         ],
         "hovertemplate": "<b>%{hovertext}</b><br><br>family=beit<br>secs=%{x}<br>top1=%{y}<br>size=%{marker.size}<br>infer_img_size=%{customdata[0]}<extra></extra>",
         "hovertext": [
          "beit_base_patch16_224.in22k_ft_in22k_in1k",
          "beit_large_patch16_224.in22k_ft_in22k_in1k",
          "beit_base_patch16_384.in22k_ft_in22k_in1k",
          "beit_large_patch16_384.in22k_ft_in22k_in1k",
          "beit_large_patch16_512.in22k_ft_in22k_in1k"
         ],
         "legendgroup": "beit",
         "marker": {
          "color": "#636efa",
          "size": [
           50176,
           50176,
           147456,
           147456,
           262144
          ],
          "sizemode": "area",
          "sizeref": 655.36,
          "symbol": "circle"
         },
         "mode": "markers",
         "name": "beit",
         "orientation": "v",
         "showlegend": true,
         "type": "scatter",
         "x": [
          0.0010062791820962809,
          0.0030446034404018876,
          0.00418007774944614,
          0.0121580547112462,
          0.030184123151222455
         ],
         "xaxis": "x",
         "y": [
          85.212,
          87.478,
          86.8,
          88.402,
          88.596
         ],
         "yaxis": "y"
        },
        {
         "customdata": [
          [
           288
          ],
          [
           288
          ]
         ],
         "hovertemplate": "<b>%{hovertext}</b><br><br>family=regnetv<br>secs=%{x}<br>top1=%{y}<br>size=%{marker.size}<br>infer_img_size=%{customdata[0]}<extra></extra>",
         "hovertext": [
          "regnetv_040.ra3_in1k",
          "regnetv_064.ra3_in1k"
         ],
         "legendgroup": "regnetv",
         "marker": {
          "color": "#EF553B",
          "size": [
           82944,
           82944
          ],
          "sizemode": "area",
          "sizeref": 655.36,
          "symbol": "circle"
         },
         "mode": "markers",
         "name": "regnetv",
         "orientation": "v",
         "showlegend": true,
         "type": "scatter",
         "x": [
          0.0011776343680813981,
          0.0021355201059217975
         ],
         "xaxis": "x",
         "y": [
          83.19,
          83.716
         ],
         "yaxis": "y"
        },
        {
         "customdata": [
          [
           288
          ]
         ],
         "hovertemplate": "<b>%{hovertext}</b><br><br>family=resnetv2d<br>secs=%{x}<br>top1=%{y}<br>size=%{marker.size}<br>infer_img_size=%{customdata[0]}<extra></extra>",
         "hovertext": [
          "resnetv2_50d_evos.ah_in1k"
         ],
         "legendgroup": "resnetv2d",
         "marker": {
          "color": "#00cc96",
          "size": [
           82944
          ],
          "sizemode": "area",
          "sizeref": 655.36,
          "symbol": "circle"
         },
         "mode": "markers",
         "name": "resnetv2d",
         "orientation": "v",
         "showlegend": true,
         "type": "scatter",
         "x": [
          0.0011976191331632715
         ],
         "xaxis": "x",
         "y": [
          82.002
         ],
         "yaxis": "y"
        }
       ],
       "layout": {
        "height": 800,
        "legend": {
         "itemsizing": "constant",
         "title": {
          "text": "family"
         },
         "tracegroupgap": 0
        },
        "template": {
         "data": {
          "bar": [
           {
            "error_x": {
             "color": "#2a3f5f"
            },
            "error_y": {
             "color": "#2a3f5f"
            },
            "marker": {
             "line": {
              "color": "#E5ECF6",
              "width": 0.5
             },
             "pattern": {
              "fillmode": "overlay",
              "size": 10,
              "solidity": 0.2
             }
            },
            "type": "bar"
           }
          ],
          "barpolar": [
           {
            "marker": {
             "line": {
              "color": "#E5ECF6",
              "width": 0.5
             },
             "pattern": {
              "fillmode": "overlay",
              "size": 10,
              "solidity": 0.2
             }
            },
            "type": "barpolar"
           }
          ],
          "carpet": [
           {
            "aaxis": {
             "endlinecolor": "#2a3f5f",
             "gridcolor": "white",
             "linecolor": "white",
             "minorgridcolor": "white",
             "startlinecolor": "#2a3f5f"
            },
            "baxis": {
             "endlinecolor": "#2a3f5f",
             "gridcolor": "white",
             "linecolor": "white",
             "minorgridcolor": "white",
             "startlinecolor": "#2a3f5f"
            },
            "type": "carpet"
           }
          ],
          "choropleth": [
           {
            "colorbar": {
             "outlinewidth": 0,
             "ticks": ""
            },
            "type": "choropleth"
           }
          ],
          "contour": [
           {
            "colorbar": {
             "outlinewidth": 0,
             "ticks": ""
            },
            "colorscale": [
             [
              0,
              "#0d0887"
             ],
             [
              0.1111111111111111,
              "#46039f"
             ],
             [
              0.2222222222222222,
              "#7201a8"
             ],
             [
              0.3333333333333333,
              "#9c179e"
             ],
             [
              0.4444444444444444,
              "#bd3786"
             ],
             [
              0.5555555555555556,
              "#d8576b"
             ],
             [
              0.6666666666666666,
              "#ed7953"
             ],
             [
              0.7777777777777778,
              "#fb9f3a"
             ],
             [
              0.8888888888888888,
              "#fdca26"
             ],
             [
              1,
              "#f0f921"
             ]
            ],
            "type": "contour"
           }
          ],
          "contourcarpet": [
           {
            "colorbar": {
             "outlinewidth": 0,
             "ticks": ""
            },
            "type": "contourcarpet"
           }
          ],
          "heatmap": [
           {
            "colorbar": {
             "outlinewidth": 0,
             "ticks": ""
            },
            "colorscale": [
             [
              0,
              "#0d0887"
             ],
             [
              0.1111111111111111,
              "#46039f"
             ],
             [
              0.2222222222222222,
              "#7201a8"
             ],
             [
              0.3333333333333333,
              "#9c179e"
             ],
             [
              0.4444444444444444,
              "#bd3786"
             ],
             [
              0.5555555555555556,
              "#d8576b"
             ],
             [
              0.6666666666666666,
              "#ed7953"
             ],
             [
              0.7777777777777778,
              "#fb9f3a"
             ],
             [
              0.8888888888888888,
              "#fdca26"
             ],
             [
              1,
              "#f0f921"
             ]
            ],
            "type": "heatmap"
           }
          ],
          "heatmapgl": [
           {
            "colorbar": {
             "outlinewidth": 0,
             "ticks": ""
            },
            "colorscale": [
             [
              0,
              "#0d0887"
             ],
             [
              0.1111111111111111,
              "#46039f"
             ],
             [
              0.2222222222222222,
              "#7201a8"
             ],
             [
              0.3333333333333333,
              "#9c179e"
             ],
             [
              0.4444444444444444,
              "#bd3786"
             ],
             [
              0.5555555555555556,
              "#d8576b"
             ],
             [
              0.6666666666666666,
              "#ed7953"
             ],
             [
              0.7777777777777778,
              "#fb9f3a"
             ],
             [
              0.8888888888888888,
              "#fdca26"
             ],
             [
              1,
              "#f0f921"
             ]
            ],
            "type": "heatmapgl"
           }
          ],
          "histogram": [
           {
            "marker": {
             "pattern": {
              "fillmode": "overlay",
              "size": 10,
              "solidity": 0.2
             }
            },
            "type": "histogram"
           }
          ],
          "histogram2d": [
           {
            "colorbar": {
             "outlinewidth": 0,
             "ticks": ""
            },
            "colorscale": [
             [
              0,
              "#0d0887"
             ],
             [
              0.1111111111111111,
              "#46039f"
             ],
             [
              0.2222222222222222,
              "#7201a8"
             ],
             [
              0.3333333333333333,
              "#9c179e"
             ],
             [
              0.4444444444444444,
              "#bd3786"
             ],
             [
              0.5555555555555556,
              "#d8576b"
             ],
             [
              0.6666666666666666,
              "#ed7953"
             ],
             [
              0.7777777777777778,
              "#fb9f3a"
             ],
             [
              0.8888888888888888,
              "#fdca26"
             ],
             [
              1,
              "#f0f921"
             ]
            ],
            "type": "histogram2d"
           }
          ],
          "histogram2dcontour": [
           {
            "colorbar": {
             "outlinewidth": 0,
             "ticks": ""
            },
            "colorscale": [
             [
              0,
              "#0d0887"
             ],
             [
              0.1111111111111111,
              "#46039f"
             ],
             [
              0.2222222222222222,
              "#7201a8"
             ],
             [
              0.3333333333333333,
              "#9c179e"
             ],
             [
              0.4444444444444444,
              "#bd3786"
             ],
             [
              0.5555555555555556,
              "#d8576b"
             ],
             [
              0.6666666666666666,
              "#ed7953"
             ],
             [
              0.7777777777777778,
              "#fb9f3a"
             ],
             [
              0.8888888888888888,
              "#fdca26"
             ],
             [
              1,
              "#f0f921"
             ]
            ],
            "type": "histogram2dcontour"
           }
          ],
          "mesh3d": [
           {
            "colorbar": {
             "outlinewidth": 0,
             "ticks": ""
            },
            "type": "mesh3d"
           }
          ],
          "parcoords": [
           {
            "line": {
             "colorbar": {
              "outlinewidth": 0,
              "ticks": ""
             }
            },
            "type": "parcoords"
           }
          ],
          "pie": [
           {
            "automargin": true,
            "type": "pie"
           }
          ],
          "scatter": [
           {
            "fillpattern": {
             "fillmode": "overlay",
             "size": 10,
             "solidity": 0.2
            },
            "type": "scatter"
           }
          ],
          "scatter3d": [
           {
            "line": {
             "colorbar": {
              "outlinewidth": 0,
              "ticks": ""
             }
            },
            "marker": {
             "colorbar": {
              "outlinewidth": 0,
              "ticks": ""
             }
            },
            "type": "scatter3d"
           }
          ],
          "scattercarpet": [
           {
            "marker": {
             "colorbar": {
              "outlinewidth": 0,
              "ticks": ""
             }
            },
            "type": "scattercarpet"
           }
          ],
          "scattergeo": [
           {
            "marker": {
             "colorbar": {
              "outlinewidth": 0,
              "ticks": ""
             }
            },
            "type": "scattergeo"
           }
          ],
          "scattergl": [
           {
            "marker": {
             "colorbar": {
              "outlinewidth": 0,
              "ticks": ""
             }
            },
            "type": "scattergl"
           }
          ],
          "scattermapbox": [
           {
            "marker": {
             "colorbar": {
              "outlinewidth": 0,
              "ticks": ""
             }
            },
            "type": "scattermapbox"
           }
          ],
          "scatterpolar": [
           {
            "marker": {
             "colorbar": {
              "outlinewidth": 0,
              "ticks": ""
             }
            },
            "type": "scatterpolar"
           }
          ],
          "scatterpolargl": [
           {
            "marker": {
             "colorbar": {
              "outlinewidth": 0,
              "ticks": ""
             }
            },
            "type": "scatterpolargl"
           }
          ],
          "scatterternary": [
           {
            "marker": {
             "colorbar": {
              "outlinewidth": 0,
              "ticks": ""
             }
            },
            "type": "scatterternary"
           }
          ],
          "surface": [
           {
            "colorbar": {
             "outlinewidth": 0,
             "ticks": ""
            },
            "colorscale": [
             [
              0,
              "#0d0887"
             ],
             [
              0.1111111111111111,
              "#46039f"
             ],
             [
              0.2222222222222222,
              "#7201a8"
             ],
             [
              0.3333333333333333,
              "#9c179e"
             ],
             [
              0.4444444444444444,
              "#bd3786"
             ],
             [
              0.5555555555555556,
              "#d8576b"
             ],
             [
              0.6666666666666666,
              "#ed7953"
             ],
             [
              0.7777777777777778,
              "#fb9f3a"
             ],
             [
              0.8888888888888888,
              "#fdca26"
             ],
             [
              1,
              "#f0f921"
             ]
            ],
            "type": "surface"
           }
          ],
          "table": [
           {
            "cells": {
             "fill": {
              "color": "#EBF0F8"
             },
             "line": {
              "color": "white"
             }
            },
            "header": {
             "fill": {
              "color": "#C8D4E3"
             },
             "line": {
              "color": "white"
             }
            },
            "type": "table"
           }
          ]
         },
         "layout": {
          "annotationdefaults": {
           "arrowcolor": "#2a3f5f",
           "arrowhead": 0,
           "arrowwidth": 1
          },
          "autotypenumbers": "strict",
          "coloraxis": {
           "colorbar": {
            "outlinewidth": 0,
            "ticks": ""
           }
          },
          "colorscale": {
           "diverging": [
            [
             0,
             "#8e0152"
            ],
            [
             0.1,
             "#c51b7d"
            ],
            [
             0.2,
             "#de77ae"
            ],
            [
             0.3,
             "#f1b6da"
            ],
            [
             0.4,
             "#fde0ef"
            ],
            [
             0.5,
             "#f7f7f7"
            ],
            [
             0.6,
             "#e6f5d0"
            ],
            [
             0.7,
             "#b8e186"
            ],
            [
             0.8,
             "#7fbc41"
            ],
            [
             0.9,
             "#4d9221"
            ],
            [
             1,
             "#276419"
            ]
           ],
           "sequential": [
            [
             0,
             "#0d0887"
            ],
            [
             0.1111111111111111,
             "#46039f"
            ],
            [
             0.2222222222222222,
             "#7201a8"
            ],
            [
             0.3333333333333333,
             "#9c179e"
            ],
            [
             0.4444444444444444,
             "#bd3786"
            ],
            [
             0.5555555555555556,
             "#d8576b"
            ],
            [
             0.6666666666666666,
             "#ed7953"
            ],
            [
             0.7777777777777778,
             "#fb9f3a"
            ],
            [
             0.8888888888888888,
             "#fdca26"
            ],
            [
             1,
             "#f0f921"
            ]
           ],
           "sequentialminus": [
            [
             0,
             "#0d0887"
            ],
            [
             0.1111111111111111,
             "#46039f"
            ],
            [
             0.2222222222222222,
             "#7201a8"
            ],
            [
             0.3333333333333333,
             "#9c179e"
            ],
            [
             0.4444444444444444,
             "#bd3786"
            ],
            [
             0.5555555555555556,
             "#d8576b"
            ],
            [
             0.6666666666666666,
             "#ed7953"
            ],
            [
             0.7777777777777778,
             "#fb9f3a"
            ],
            [
             0.8888888888888888,
             "#fdca26"
            ],
            [
             1,
             "#f0f921"
            ]
           ]
          },
          "colorway": [
           "#636efa",
           "#EF553B",
           "#00cc96",
           "#ab63fa",
           "#FFA15A",
           "#19d3f3",
           "#FF6692",
           "#B6E880",
           "#FF97FF",
           "#FECB52"
          ],
          "font": {
           "color": "#2a3f5f"
          },
          "geo": {
           "bgcolor": "white",
           "lakecolor": "white",
           "landcolor": "#E5ECF6",
           "showlakes": true,
           "showland": true,
           "subunitcolor": "white"
          },
          "hoverlabel": {
           "align": "left"
          },
          "hovermode": "closest",
          "mapbox": {
           "style": "light"
          },
          "paper_bgcolor": "white",
          "plot_bgcolor": "#E5ECF6",
          "polar": {
           "angularaxis": {
            "gridcolor": "white",
            "linecolor": "white",
            "ticks": ""
           },
           "bgcolor": "#E5ECF6",
           "radialaxis": {
            "gridcolor": "white",
            "linecolor": "white",
            "ticks": ""
           }
          },
          "scene": {
           "xaxis": {
            "backgroundcolor": "#E5ECF6",
            "gridcolor": "white",
            "gridwidth": 2,
            "linecolor": "white",
            "showbackground": true,
            "ticks": "",
            "zerolinecolor": "white"
           },
           "yaxis": {
            "backgroundcolor": "#E5ECF6",
            "gridcolor": "white",
            "gridwidth": 2,
            "linecolor": "white",
            "showbackground": true,
            "ticks": "",
            "zerolinecolor": "white"
           },
           "zaxis": {
            "backgroundcolor": "#E5ECF6",
            "gridcolor": "white",
            "gridwidth": 2,
            "linecolor": "white",
            "showbackground": true,
            "ticks": "",
            "zerolinecolor": "white"
           }
          },
          "shapedefaults": {
           "line": {
            "color": "#2a3f5f"
           }
          },
          "ternary": {
           "aaxis": {
            "gridcolor": "white",
            "linecolor": "white",
            "ticks": ""
           },
           "baxis": {
            "gridcolor": "white",
            "linecolor": "white",
            "ticks": ""
           },
           "bgcolor": "#E5ECF6",
           "caxis": {
            "gridcolor": "white",
            "linecolor": "white",
            "ticks": ""
           }
          },
          "title": {
           "x": 0.05
          },
          "xaxis": {
           "automargin": true,
           "gridcolor": "white",
           "linecolor": "white",
           "ticks": "",
           "title": {
            "standoff": 15
           },
           "zerolinecolor": "white",
           "zerolinewidth": 2
          },
          "yaxis": {
           "automargin": true,
           "gridcolor": "white",
           "linecolor": "white",
           "ticks": "",
           "title": {
            "standoff": 15
           },
           "zerolinecolor": "white",
           "zerolinewidth": 2
          }
         }
        },
        "title": {
         "text": "Inference"
        },
        "width": 1000,
        "xaxis": {
         "anchor": "y",
         "domain": [
          0,
          1
         ],
         "title": {
          "text": "secs"
         },
         "type": "log"
        },
        "yaxis": {
         "anchor": "x",
         "domain": [
          0,
          1
         ],
         "title": {
          "text": "top1"
         }
        }
       }
      }
     },
     "metadata": {},
     "output_type": "display_data"
    }
   ],
   "source": [
    "import pandas as pd\n",
    "df_results = pd.read_csv('results-imagenet.csv')\n",
    "\n",
    "df_results['model_org'] = df_results['model'] \n",
    "df_results['model'] = df_results['model'].str.split('.').str[0]\n",
    "\n",
    "def get_data(part, col):\n",
    "    df = pd.read_csv(f'benchmark-{part}-amp-nhwc-pt111-cu113-rtx3090.csv').merge(df_results, on='model')\n",
    "    df['secs'] = 1. / df[col]\n",
    "    df['family'] = df.model.str.extract('^([a-z]+?(?:v2)?)(?:\\d|_|$)')\n",
    "    df = df[~df.model.str.endswith('gn')]\n",
    "    df.loc[df.model.str.contains('in22'),'family'] = df.loc[df.model.str.contains('in22'),'family'] + '_in22'\n",
    "    df.loc[df.model.str.contains('resnet.*d'),'family'] = df.loc[df.model.str.contains('resnet.*d'),'family'] + 'd'\n",
    "    return df[df.family.str.contains('^re[sg]netd?|beit|convnext|levit|efficient|vit|vgg|swin')]\n",
    "\n",
    "df = get_data('infer', 'infer_samples_per_sec')\n",
    "\n",
    "import plotly.express as px\n",
    "w,h = 1000,800\n",
    "\n",
    "def show_all(df, title, size):\n",
    "    return px.scatter(df, width=w, height=h, size=df[size]**2, title=title,\n",
    "        x='secs',  y='top1', log_x=True, color='family', hover_name='model_org', hover_data=[size])\n",
    "\n",
    "show_all(df, 'Inference', 'infer_img_size')"
   ]
  },
  {
   "cell_type": "code",
   "execution_count": null,
   "metadata": {},
   "outputs": [],
   "source": []
  }
 ],
 "metadata": {
  "kernelspec": {
   "display_name": "Python 3",
   "language": "python",
   "name": "python3"
  },
  "language_info": {
   "codemirror_mode": {
    "name": "ipython",
    "version": 3
   },
   "file_extension": ".py",
   "mimetype": "text/x-python",
   "name": "python",
   "nbconvert_exporter": "python",
   "pygments_lexer": "ipython3",
   "version": "3.11.9"
  }
 },
 "nbformat": 4,
 "nbformat_minor": 2
}
