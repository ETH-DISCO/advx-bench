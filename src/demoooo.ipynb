{
 "cells": [
  {
   "cell_type": "code",
   "execution_count": 6,
   "metadata": {},
   "outputs": [
    {
     "name": "stdout",
     "output_type": "stream",
     "text": [
      "total: 3545\n",
      "binary-selection: 1605\n",
      "object-detection: 335\n",
      "image-selection: 1605\n"
     ]
    }
   ],
   "source": [
    "import os\n",
    "import glob\n",
    "from pathlib import Path\n",
    "\n",
    "datapath = Path.cwd().parent / 'data' / 'hcaptcha'\n",
    "subdirs = [x for x in datapath.iterdir() if x.is_dir()]\n",
    "\n",
    "all_files = [\n",
    "    f for subdir in subdirs for f in\n",
    "    glob.glob(str(subdir / '*.png'))\n",
    "]\n",
    "\n",
    "print(\"total:\", len(all_files))\n",
    "for subdir in subdirs:\n",
    "    files = glob.glob(str(subdir / '*.png'))\n",
    "    print(f'{subdir.name}: {len(files)}')"
   ]
  },
  {
   "cell_type": "code",
   "execution_count": 12,
   "metadata": {},
   "outputs": [],
   "source": [
    "import random\n",
    "import matplotlib.pyplot as plt\n",
    "from PIL import Image\n",
    "\n",
    "def time_it(func):\n",
    "    import time\n",
    "    import functools\n",
    "    @functools.wraps(func)\n",
    "    def wrapper(*args, **kwargs):\n",
    "        start = time.time()\n",
    "        result = func(*args, **kwargs)\n",
    "        print(f'{func.__name__} took {time.time() - start:.2f} seconds')\n",
    "        return result\n",
    "    return wrapper\n",
    "\n",
    "@time_it\n",
    "def most_likely_class(img: Image.Image) -> str:\n",
    "    from models.caption import caption_blip\n",
    "    from models.cls import classify_metaclip\n",
    "    caption: list[str] = caption_blip(img)\n",
    "    probs: list[float] = classify_metaclip(img, caption)\n",
    "    max_cls = max(zip(caption, probs), key=lambda x: x[1])\n",
    "    return max_cls\n",
    "\n",
    "file = random.choice(all_files)\n",
    "img = Image.open(file)\n",
    "plt.imshow(img)\n",
    "print(most_likely_class(img))\n",
    "plt.axis('off')\n",
    "plt.show()"
   ]
  },
  {
   "cell_type": "code",
   "execution_count": null,
   "metadata": {},
   "outputs": [],
   "source": []
  }
 ],
 "metadata": {
  "kernelspec": {
   "display_name": "Python 3",
   "language": "python",
   "name": "python3"
  },
  "language_info": {
   "codemirror_mode": {
    "name": "ipython",
    "version": 3
   },
   "file_extension": ".py",
   "mimetype": "text/x-python",
   "name": "python",
   "nbconvert_exporter": "python",
   "pygments_lexer": "ipython3",
   "version": "3.11.9"
  }
 },
 "nbformat": 4,
 "nbformat_minor": 2
}
