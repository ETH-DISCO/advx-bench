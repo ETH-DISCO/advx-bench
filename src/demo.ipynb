{
 "cells": [
  {
   "cell_type": "code",
   "execution_count": 1,
   "metadata": {},
   "outputs": [
    {
     "ename": "ModuleNotFoundError",
     "evalue": "No module named 'utils'",
     "output_type": "error",
     "traceback": [
      "\u001b[0;31m---------------------------------------------------------------------------\u001b[0m",
      "\u001b[0;31mModuleNotFoundError\u001b[0m                       Traceback (most recent call last)",
      "Cell \u001b[0;32mIn[1], line 3\u001b[0m\n\u001b[1;32m      1\u001b[0m \u001b[38;5;28;01mfrom\u001b[39;00m \u001b[38;5;21;01mmatplotlib\u001b[39;00m \u001b[38;5;28;01mimport\u001b[39;00m pyplot \u001b[38;5;28;01mas\u001b[39;00m plt\n\u001b[1;32m      2\u001b[0m \u001b[38;5;28;01mfrom\u001b[39;00m \u001b[38;5;21;01mmodels\u001b[39;00m\u001b[38;5;21;01m.\u001b[39;00m\u001b[38;5;21;01mutils\u001b[39;00m \u001b[38;5;28;01mimport\u001b[39;00m set_seed\n\u001b[0;32m----> 3\u001b[0m \u001b[38;5;28;01mfrom\u001b[39;00m \u001b[38;5;21;01mmodels\u001b[39;00m\u001b[38;5;21;01m.\u001b[39;00m\u001b[38;5;21;01mgeneration\u001b[39;00m \u001b[38;5;28;01mimport\u001b[39;00m gen_stable_diffusion\n\u001b[1;32m      4\u001b[0m \u001b[38;5;28;01mfrom\u001b[39;00m \u001b[38;5;21;01mmodels\u001b[39;00m\u001b[38;5;21;01m.\u001b[39;00m\u001b[38;5;21;01mcls\u001b[39;00m \u001b[38;5;28;01mimport\u001b[39;00m classify_clip, plot_classification\n\u001b[1;32m      5\u001b[0m \u001b[38;5;28;01mfrom\u001b[39;00m \u001b[38;5;21;01mmodels\u001b[39;00m\u001b[38;5;21;01m.\u001b[39;00m\u001b[38;5;21;01mdet\u001b[39;00m \u001b[38;5;28;01mimport\u001b[39;00m detect_groundingdino\n",
      "File \u001b[0;32m~/dev/advx-bench/src/models/generation.py:2\u001b[0m\n\u001b[1;32m      1\u001b[0m \u001b[38;5;28;01mfrom\u001b[39;00m \u001b[38;5;21;01mPIL\u001b[39;00m \u001b[38;5;28;01mimport\u001b[39;00m Image\n\u001b[0;32m----> 2\u001b[0m \u001b[38;5;28;01mfrom\u001b[39;00m \u001b[38;5;21;01mutils\u001b[39;00m \u001b[38;5;28;01mimport\u001b[39;00m get_device\n\u001b[1;32m      4\u001b[0m \u001b[38;5;124;03m\"\"\"\u001b[39;00m\n\u001b[1;32m      5\u001b[0m \u001b[38;5;124;03mmodels\u001b[39;00m\n\u001b[1;32m      6\u001b[0m \u001b[38;5;124;03m\"\"\"\u001b[39;00m\n\u001b[1;32m      9\u001b[0m \u001b[38;5;28;01mdef\u001b[39;00m \u001b[38;5;21mgen_stable_diffusion\u001b[39m(prompt: \u001b[38;5;28mstr\u001b[39m) \u001b[38;5;241m-\u001b[39m\u001b[38;5;241m>\u001b[39m Image\u001b[38;5;241m.\u001b[39mImage:\n",
      "\u001b[0;31mModuleNotFoundError\u001b[0m: No module named 'utils'"
     ]
    }
   ],
   "source": [
    "from matplotlib import pyplot as plt\n",
    "from models.utils import set_seed\n",
    "from models.generation import gen_stable_diffusion\n",
    "from models.cls import classify_clip, plot_classification\n",
    "from models.det import detect_groundingdino\n",
    "from models.seg import segment_sam1, plot_segmentation_detection\n",
    "from models.caption import caption_vqa\n",
    "\n",
    "\n",
    "set_seed(42)\n",
    "\n",
    "GREEN = \"\\033[92m\"\n",
    "RESET = \"\\033[0m\"\n",
    "\n",
    "# 1. generate an image\n",
    "print(f\"{GREEN}Generating an image...{RESET}\")\n",
    "img = gen_stable_diffusion(\"an apple and a banana on a table\")\n",
    "plt.imshow(img)\n",
    "plt.axis('off')\n",
    "plt.show()\n",
    "\n",
    "# 2. caption it\n",
    "print(f\"{GREEN}Captioning the image...{RESET}\")\n",
    "text_queries = caption_vqa(img)\n",
    "print(\"text_queries:\", text_queries)\n",
    "\n",
    "# 3. classify, detect, segment it\n",
    "print(f\"{GREEN}Classifying the image...{RESET}\")\n",
    "probs = classify_clip(img, text_queries)\n",
    "plot_classification(img, text_queries, probs)\n",
    "\n",
    "print(f\"{GREEN}Detecting objects in the image...{RESET}\")\n",
    "threshold = 0.1\n",
    "boxes, scores, labels = detect_groundingdino(img, text_queries, threshold)\n",
    "\n",
    "print(f\"{GREEN}Segmenting objects in the image...{RESET}\")\n",
    "masks = segment_sam1(img, boxes)\n",
    "plot_segmentation_detection(img, boxes, scores, text_queries, masks)\n"
   ]
  },
  {
   "cell_type": "code",
   "execution_count": null,
   "metadata": {},
   "outputs": [],
   "source": []
  }
 ],
 "metadata": {
  "kernelspec": {
   "display_name": "Python 3",
   "language": "python",
   "name": "python3"
  },
  "language_info": {
   "codemirror_mode": {
    "name": "ipython",
    "version": 3
   },
   "file_extension": ".py",
   "mimetype": "text/x-python",
   "name": "python",
   "nbconvert_exporter": "python",
   "pygments_lexer": "ipython3",
   "version": "3.11.9"
  }
 },
 "nbformat": 4,
 "nbformat_minor": 2
}
