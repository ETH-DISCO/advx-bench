{
 "cells": [
  {
   "cell_type": "code",
   "execution_count": 3,
   "metadata": {},
   "outputs": [
    {
     "data": {
      "application/vnd.jupyter.widget-view+json": {
       "model_id": "9f9a9f1879ad4d8e98bbbc88f4ebbe5e",
       "version_major": 2,
       "version_minor": 0
      },
      "text/plain": [
       "Loading checkpoint shards:   0%|          | 0/4 [00:00<?, ?it/s]"
      ]
     },
     "metadata": {},
     "output_type": "display_data"
    },
    {
     "ename": "",
     "evalue": "",
     "output_type": "error",
     "traceback": [
      "\u001b[1;31mThe Kernel crashed while executing code in the current cell or a previous cell. \n",
      "\u001b[1;31mPlease review the code in the cell(s) to identify a possible cause of the failure. \n",
      "\u001b[1;31mClick <a href='https://aka.ms/vscodeJupyterKernelCrash'>here</a> for more info. \n",
      "\u001b[1;31mView Jupyter <a href='command:jupyter.viewOutput'>log</a> for further details."
     ]
    }
   ],
   "source": [
    "from PIL import Image\n",
    "from transformers import AutoModel, AutoConfig\n",
    "from transformers import CLIPImageProcessor, pipeline, CLIPTokenizer\n",
    "import torch\n",
    "import torchvision.transforms as T\n",
    "from torchvision.transforms import InterpolationMode\n",
    "import requests\n",
    "\n",
    "model_name_or_path = \"BAAI/EVA-CLIP-8B\" # or /path/to/local/EVA-CLIP-8B\n",
    "image_size = 448\n",
    "\n",
    "# use image processor with conig\n",
    "processor = CLIPImageProcessor(size={\"shortest_edge\":image_size}, do_center_crop=True, crop_size=image_size)\n",
    "\n",
    "## you can also directly use the image processor by torchvision\n",
    "## squash\n",
    "# processor = T.Compose(\n",
    "#     [\n",
    "#         T.Lambda(lambda img: img.convert('RGB') if img.mode != 'RGB' else img),\n",
    "#         T.Resize((image_size, image_size), interpolation=InterpolationMode.BICUBIC),\n",
    "#         T.ToTensor(),\n",
    "#         T.Normalize(mean=(0.48145466, 0.4578275, 0.40821073), std=(0.26862954, 0.26130258, 0.27577711))\n",
    "#     ]\n",
    "# )\n",
    "## shortest\n",
    "## processor = T.Compose(\n",
    "#     [\n",
    "#         T.Lambda(lambda img: img.convert('RGB') if img.mode != 'RGB' else img),\n",
    "#         T.Resize(image_size, interpolation=InterpolationMode.BICUBIC),\n",
    "#         T.CenterCrop(image_size),\n",
    "#         T.ToTensor(),\n",
    "#         T.Normalize(mean=(0.48145466, 0.4578275, 0.40821073), std=(0.26862954, 0.26130258, 0.27577711))\n",
    "#     ]\n",
    "# )\n",
    "\n",
    "model = AutoModel.from_pretrained(\n",
    "    model_name_or_path, \n",
    "    torch_dtype=torch.float16,\n",
    "    trust_remote_code=True).to('cpu').eval()\n",
    "\n",
    "url = \"http://images.cocodataset.org/val2017/000000039769.jpg\"\n",
    "image = Image.open(requests.get(url, stream=True).raw)\n",
    "import matplotlib.pyplot as plt\n",
    "plt.imshow(image)\n",
    "plt.axis(\"off\")\n",
    "plt.show()\n",
    "\n",
    "captions = [\"a diagram\", \"a dog\", \"a cat\"]\n",
    "tokenizer = CLIPTokenizer.from_pretrained(model_name_or_path)\n",
    "input_ids = tokenizer(captions,  return_tensors=\"pt\", padding=True).input_ids.to('cuda')\n",
    "input_pixels = processor(images=image, return_tensors=\"pt\", padding=True).pixel_values.to('cuda')\n",
    "\n",
    "with torch.no_grad(), torch.cuda.amp.autocast():\n",
    "    image_features = model.encode_image(input_pixels)\n",
    "    text_features = model.encode_text(input_ids)\n",
    "    image_features /= image_features.norm(dim=-1, keepdim=True)\n",
    "    text_features /= text_features.norm(dim=-1, keepdim=True)\n",
    "\n",
    "label_probs = (100.0 * image_features @ text_features.T).softmax(dim=-1)\n",
    "print(f\"Label probs: {label_probs}\")\n"
   ]
  },
  {
   "cell_type": "code",
   "execution_count": null,
   "metadata": {},
   "outputs": [],
   "source": []
  }
 ],
 "metadata": {
  "kernelspec": {
   "display_name": "Python 3",
   "language": "python",
   "name": "python3"
  },
  "language_info": {
   "codemirror_mode": {
    "name": "ipython",
    "version": 3
   },
   "file_extension": ".py",
   "mimetype": "text/x-python",
   "name": "python",
   "nbconvert_exporter": "python",
   "pygments_lexer": "ipython3",
   "version": "3.11.9"
  }
 },
 "nbformat": 4,
 "nbformat_minor": 2
}
