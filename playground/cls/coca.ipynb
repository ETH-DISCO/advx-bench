{
 "cells": [
  {
   "cell_type": "code",
   "execution_count": 1,
   "metadata": {},
   "outputs": [
    {
     "name": "stdout",
     "output_type": "stream",
     "text": [
      "Requirement already satisfied: open_clip_torch in /Users/sueszli/.asdf/installs/python/3.11.9/lib/python3.11/site-packages (2.26.1)\n",
      "Requirement already satisfied: torch>=1.9.0 in /Users/sueszli/.asdf/installs/python/3.11.9/lib/python3.11/site-packages (from open_clip_torch) (2.3.0)\n",
      "Requirement already satisfied: torchvision in /Users/sueszli/.asdf/installs/python/3.11.9/lib/python3.11/site-packages (from open_clip_torch) (0.18.0)\n",
      "Requirement already satisfied: regex in /Users/sueszli/.asdf/installs/python/3.11.9/lib/python3.11/site-packages (from open_clip_torch) (2024.4.28)\n",
      "Requirement already satisfied: ftfy in /Users/sueszli/.asdf/installs/python/3.11.9/lib/python3.11/site-packages (from open_clip_torch) (6.2.0)\n",
      "Requirement already satisfied: tqdm in /Users/sueszli/.asdf/installs/python/3.11.9/lib/python3.11/site-packages (from open_clip_torch) (4.66.4)\n",
      "Requirement already satisfied: huggingface-hub in /Users/sueszli/.asdf/installs/python/3.11.9/lib/python3.11/site-packages (from open_clip_torch) (0.23.4)\n",
      "Requirement already satisfied: timm in /Users/sueszli/.asdf/installs/python/3.11.9/lib/python3.11/site-packages (from open_clip_torch) (1.0.7)\n",
      "Requirement already satisfied: filelock in /Users/sueszli/.asdf/installs/python/3.11.9/lib/python3.11/site-packages (from torch>=1.9.0->open_clip_torch) (3.12.4)\n",
      "Requirement already satisfied: typing-extensions>=4.8.0 in /Users/sueszli/.asdf/installs/python/3.11.9/lib/python3.11/site-packages (from torch>=1.9.0->open_clip_torch) (4.11.0)\n",
      "Requirement already satisfied: sympy in /Users/sueszli/.asdf/installs/python/3.11.9/lib/python3.11/site-packages (from torch>=1.9.0->open_clip_torch) (1.12.1rc1)\n",
      "Requirement already satisfied: networkx in /Users/sueszli/.asdf/installs/python/3.11.9/lib/python3.11/site-packages (from torch>=1.9.0->open_clip_torch) (3.3)\n",
      "Requirement already satisfied: jinja2 in /Users/sueszli/.asdf/installs/python/3.11.9/lib/python3.11/site-packages (from torch>=1.9.0->open_clip_torch) (3.1.4)\n",
      "Requirement already satisfied: fsspec in /Users/sueszli/.asdf/installs/python/3.11.9/lib/python3.11/site-packages (from torch>=1.9.0->open_clip_torch) (2024.3.1)\n",
      "Requirement already satisfied: wcwidth<0.3.0,>=0.2.12 in /Users/sueszli/.local/lib/python3.11/site-packages (from ftfy->open_clip_torch) (0.2.13)\n",
      "Requirement already satisfied: packaging>=20.9 in /Users/sueszli/.asdf/installs/python/3.11.9/lib/python3.11/site-packages (from huggingface-hub->open_clip_torch) (24.1)\n",
      "Requirement already satisfied: pyyaml>=5.1 in /Users/sueszli/.asdf/installs/python/3.11.9/lib/python3.11/site-packages (from huggingface-hub->open_clip_torch) (6.0.1)\n",
      "Requirement already satisfied: requests in /Users/sueszli/.asdf/installs/python/3.11.9/lib/python3.11/site-packages (from huggingface-hub->open_clip_torch) (2.32.3)\n",
      "Requirement already satisfied: safetensors in /Users/sueszli/.asdf/installs/python/3.11.9/lib/python3.11/site-packages (from timm->open_clip_torch) (0.4.3)\n",
      "Requirement already satisfied: numpy in /Users/sueszli/.asdf/installs/python/3.11.9/lib/python3.11/site-packages (from torchvision->open_clip_torch) (1.24.4)\n",
      "Requirement already satisfied: pillow!=8.3.*,>=5.3.0 in /Users/sueszli/.asdf/installs/python/3.11.9/lib/python3.11/site-packages (from torchvision->open_clip_torch) (10.2.0)\n",
      "Requirement already satisfied: MarkupSafe>=2.0 in /Users/sueszli/.asdf/installs/python/3.11.9/lib/python3.11/site-packages (from jinja2->torch>=1.9.0->open_clip_torch) (2.1.5)\n",
      "Requirement already satisfied: charset-normalizer<4,>=2 in /Users/sueszli/.asdf/installs/python/3.11.9/lib/python3.11/site-packages (from requests->huggingface-hub->open_clip_torch) (3.3.2)\n",
      "Requirement already satisfied: idna<4,>=2.5 in /Users/sueszli/.asdf/installs/python/3.11.9/lib/python3.11/site-packages (from requests->huggingface-hub->open_clip_torch) (3.7)\n",
      "Requirement already satisfied: urllib3<3,>=1.21.1 in /Users/sueszli/.asdf/installs/python/3.11.9/lib/python3.11/site-packages (from requests->huggingface-hub->open_clip_torch) (2.2.1)\n",
      "Requirement already satisfied: certifi>=2017.4.17 in /Users/sueszli/.asdf/installs/python/3.11.9/lib/python3.11/site-packages (from requests->huggingface-hub->open_clip_torch) (2024.2.2)\n",
      "Requirement already satisfied: mpmath<1.4.0,>=1.1.0 in /Users/sueszli/.asdf/installs/python/3.11.9/lib/python3.11/site-packages (from sympy->torch>=1.9.0->open_clip_torch) (1.3.0)\n",
      "Note: you may need to restart the kernel to use updated packages.\n"
     ]
    }
   ],
   "source": [
    "%pip install open_clip_torch"
   ]
  },
  {
   "cell_type": "code",
   "execution_count": 5,
   "metadata": {},
   "outputs": [
    {
     "data": {
      "application/vnd.jupyter.widget-view+json": {
       "model_id": "dcfecc8c989642688172c4f3521f2758",
       "version_major": 2,
       "version_minor": 0
      },
      "text/plain": [
       "open_clip_pytorch_model.bin:   0%|          | 0.00/1.01G [00:00<?, ?B/s]"
      ]
     },
     "metadata": {},
     "output_type": "display_data"
    }
   ],
   "source": [
    "import torch\n",
    "from PIL import Image\n",
    "import open_clip\n",
    "\n",
    "\n",
    "#  ('coca_ViT-B-32', 'laion2b_s13b_b90k'),\n",
    "#  ('coca_ViT-B-32', 'mscoco_finetuned_laion2b_s13b_b90k'),\n",
    "#  ('coca_ViT-L-14', 'laion2b_s13b_b90k'),\n",
    "#  ('coca_ViT-L-14', 'mscoco_finetuned_laion2b_s13b_b90k'),\n",
    "\n",
    "\n",
    "model, _, preprocess = open_clip.create_model_and_transforms('coca_ViT-B-32', pretrained='laion2b_s13b_b90k')\n",
    "model.eval()  # model in train mode by default, impacts some models with BatchNorm or stochastic depth active\n",
    "tokenizer = open_clip.get_tokenizer('coca_ViT-B-32')\n",
    "\n",
    "url = \"http://images.cocodataset.org/val2017/000000039769.jpg\"\n",
    "import requests\n",
    "from PIL import Image\n",
    "image = Image.open(requests.get(url, stream=True).raw)\n",
    "import matplotlib.pyplot as plt\n",
    "\n",
    "image = preprocess(image).unsqueeze(0)\n",
    "args = [\"a photo of a cat\", \"a photo of a dog\", \"two remote controls\"]\n",
    "text = tokenizer(args)\n",
    "\n",
    "with torch.no_grad(), torch.cuda.amp.autocast():\n",
    "    image_features = model.encode_image(image)\n",
    "    text_features = model.encode_text(text)\n",
    "    image_features /= image_features.norm(dim=-1, keepdim=True)\n",
    "    text_features /= text_features.norm(dim=-1, keepdim=True)\n",
    "\n",
    "    text_probs = (100.0 * image_features @ text_features.T).softmax(dim=-1)\n",
    "\n",
    "print(\"Label probs:\", text_probs)  # prints: [[1., 0., 0.]]\n",
    "for i, arg in enumerate(args):\n",
    "    prob = text_probs[0, i].item()\n",
    "    print(f\"{arg:<20} {prob * 100:.2f}%\")"
   ]
  },
  {
   "cell_type": "code",
   "execution_count": null,
   "metadata": {},
   "outputs": [],
   "source": []
  }
 ],
 "metadata": {
  "kernelspec": {
   "display_name": "Python 3",
   "language": "python",
   "name": "python3"
  },
  "language_info": {
   "codemirror_mode": {
    "name": "ipython",
    "version": 3
   },
   "file_extension": ".py",
   "mimetype": "text/x-python",
   "name": "python",
   "nbconvert_exporter": "python",
   "pygments_lexer": "ipython3",
   "version": "3.11.9"
  }
 },
 "nbformat": 4,
 "nbformat_minor": 2
}
