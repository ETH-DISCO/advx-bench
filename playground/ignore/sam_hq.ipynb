{
 "cells": [
  {
   "cell_type": "code",
   "execution_count": 1,
   "metadata": {},
   "outputs": [
    {
     "name": "stdout",
     "output_type": "stream",
     "text": [
      "Requirement already satisfied: autodistill-sam-hq in /Users/sueszli/.asdf/installs/python/3.11.9/lib/python3.11/site-packages (0.1.1)\n",
      "Requirement already satisfied: torch in /Users/sueszli/.asdf/installs/python/3.11.9/lib/python3.11/site-packages (from autodistill-sam-hq) (2.3.0)\n",
      "Requirement already satisfied: autodistill in /Users/sueszli/.asdf/installs/python/3.11.9/lib/python3.11/site-packages (from autodistill-sam-hq) (0.1.28)\n",
      "Requirement already satisfied: numpy>=1.20.0 in /Users/sueszli/.asdf/installs/python/3.11.9/lib/python3.11/site-packages (from autodistill-sam-hq) (1.24.4)\n",
      "Requirement already satisfied: opencv-python>=4.6.0 in /Users/sueszli/.asdf/installs/python/3.11.9/lib/python3.11/site-packages (from autodistill-sam-hq) (4.9.0.80)\n",
      "Requirement already satisfied: rf-segment-anything in /Users/sueszli/.asdf/installs/python/3.11.9/lib/python3.11/site-packages (from autodistill-sam-hq) (1.0)\n",
      "Requirement already satisfied: supervision in /Users/sueszli/.asdf/installs/python/3.11.9/lib/python3.11/site-packages (from autodistill-sam-hq) (0.22.0)\n",
      "Requirement already satisfied: tqdm in /Users/sueszli/.asdf/installs/python/3.11.9/lib/python3.11/site-packages (from autodistill->autodistill-sam-hq) (4.66.4)\n",
      "Requirement already satisfied: Pillow>=7.1.2 in /Users/sueszli/.asdf/installs/python/3.11.9/lib/python3.11/site-packages (from autodistill->autodistill-sam-hq) (10.2.0)\n",
      "Requirement already satisfied: PyYAML>=5.3.1 in /Users/sueszli/.asdf/installs/python/3.11.9/lib/python3.11/site-packages (from autodistill->autodistill-sam-hq) (6.0.1)\n",
      "Requirement already satisfied: click in /Users/sueszli/.asdf/installs/python/3.11.9/lib/python3.11/site-packages (from autodistill->autodistill-sam-hq) (8.1.7)\n",
      "Requirement already satisfied: defusedxml<0.8.0,>=0.7.1 in /Users/sueszli/.asdf/installs/python/3.11.9/lib/python3.11/site-packages (from supervision->autodistill-sam-hq) (0.7.1)\n",
      "Requirement already satisfied: matplotlib>=3.6.0 in /Users/sueszli/.asdf/installs/python/3.11.9/lib/python3.11/site-packages (from supervision->autodistill-sam-hq) (3.8.4)\n",
      "Requirement already satisfied: opencv-python-headless>=4.5.5.64 in /Users/sueszli/.asdf/installs/python/3.11.9/lib/python3.11/site-packages (from supervision->autodistill-sam-hq) (4.10.0.84)\n",
      "Requirement already satisfied: scipy<2.0.0,>=1.10.0 in /Users/sueszli/.asdf/installs/python/3.11.9/lib/python3.11/site-packages (from supervision->autodistill-sam-hq) (1.11.1)\n",
      "Requirement already satisfied: filelock in /Users/sueszli/.asdf/installs/python/3.11.9/lib/python3.11/site-packages (from torch->autodistill-sam-hq) (3.12.4)\n",
      "Requirement already satisfied: typing-extensions>=4.8.0 in /Users/sueszli/.asdf/installs/python/3.11.9/lib/python3.11/site-packages (from torch->autodistill-sam-hq) (4.11.0)\n",
      "Requirement already satisfied: sympy in /Users/sueszli/.asdf/installs/python/3.11.9/lib/python3.11/site-packages (from torch->autodistill-sam-hq) (1.12.1rc1)\n",
      "Requirement already satisfied: networkx in /Users/sueszli/.asdf/installs/python/3.11.9/lib/python3.11/site-packages (from torch->autodistill-sam-hq) (3.3)\n",
      "Requirement already satisfied: jinja2 in /Users/sueszli/.asdf/installs/python/3.11.9/lib/python3.11/site-packages (from torch->autodistill-sam-hq) (3.1.4)\n",
      "Requirement already satisfied: fsspec in /Users/sueszli/.asdf/installs/python/3.11.9/lib/python3.11/site-packages (from torch->autodistill-sam-hq) (2024.3.1)\n",
      "Requirement already satisfied: contourpy>=1.0.1 in /Users/sueszli/.asdf/installs/python/3.11.9/lib/python3.11/site-packages (from matplotlib>=3.6.0->supervision->autodistill-sam-hq) (1.2.1)\n",
      "Requirement already satisfied: cycler>=0.10 in /Users/sueszli/.asdf/installs/python/3.11.9/lib/python3.11/site-packages (from matplotlib>=3.6.0->supervision->autodistill-sam-hq) (0.12.1)\n",
      "Requirement already satisfied: fonttools>=4.22.0 in /Users/sueszli/.asdf/installs/python/3.11.9/lib/python3.11/site-packages (from matplotlib>=3.6.0->supervision->autodistill-sam-hq) (4.51.0)\n",
      "Requirement already satisfied: kiwisolver>=1.3.1 in /Users/sueszli/.asdf/installs/python/3.11.9/lib/python3.11/site-packages (from matplotlib>=3.6.0->supervision->autodistill-sam-hq) (1.4.5)\n",
      "Requirement already satisfied: packaging>=20.0 in /Users/sueszli/.asdf/installs/python/3.11.9/lib/python3.11/site-packages (from matplotlib>=3.6.0->supervision->autodistill-sam-hq) (24.1)\n",
      "Requirement already satisfied: pyparsing>=2.3.1 in /Users/sueszli/.asdf/installs/python/3.11.9/lib/python3.11/site-packages (from matplotlib>=3.6.0->supervision->autodistill-sam-hq) (3.1.2)\n",
      "Requirement already satisfied: python-dateutil>=2.7 in /Users/sueszli/.local/lib/python3.11/site-packages (from matplotlib>=3.6.0->supervision->autodistill-sam-hq) (2.9.0.post0)\n",
      "Requirement already satisfied: MarkupSafe>=2.0 in /Users/sueszli/.asdf/installs/python/3.11.9/lib/python3.11/site-packages (from jinja2->torch->autodistill-sam-hq) (2.1.5)\n",
      "Requirement already satisfied: mpmath<1.4.0,>=1.1.0 in /Users/sueszli/.asdf/installs/python/3.11.9/lib/python3.11/site-packages (from sympy->torch->autodistill-sam-hq) (1.3.0)\n",
      "Requirement already satisfied: six>=1.5 in /Users/sueszli/.local/lib/python3.11/site-packages (from python-dateutil>=2.7->matplotlib>=3.6.0->supervision->autodistill-sam-hq) (1.16.0)\n",
      "Note: you may need to restart the kernel to use updated packages.\n"
     ]
    }
   ],
   "source": [
    "%pip install autodistill-sam-hq"
   ]
  },
  {
   "cell_type": "code",
   "execution_count": 8,
   "metadata": {},
   "outputs": [
    {
     "ename": "ImportError",
     "evalue": "cannot import name 'HQSAM' from 'autodistill_sam_hq' (/Users/sueszli/.asdf/installs/python/3.11.9/lib/python3.11/site-packages/autodistill_sam_hq/__init__.py)",
     "output_type": "error",
     "traceback": [
      "\u001b[0;31m---------------------------------------------------------------------------\u001b[0m",
      "\u001b[0;31mImportError\u001b[0m                               Traceback (most recent call last)",
      "Cell \u001b[0;32mIn[8], line 1\u001b[0m\n\u001b[0;32m----> 1\u001b[0m \u001b[38;5;28;01mfrom\u001b[39;00m \u001b[38;5;21;01mautodistill_sam_hq\u001b[39;00m \u001b[38;5;28;01mimport\u001b[39;00m HQSAM\n\u001b[1;32m      2\u001b[0m \u001b[38;5;28;01mfrom\u001b[39;00m \u001b[38;5;21;01mpathlib\u001b[39;00m \u001b[38;5;28;01mimport\u001b[39;00m Path\n\u001b[1;32m      3\u001b[0m \u001b[38;5;28;01mfrom\u001b[39;00m \u001b[38;5;21;01mmatplotlib\u001b[39;00m \u001b[38;5;28;01mimport\u001b[39;00m pyplot \u001b[38;5;28;01mas\u001b[39;00m plt\n",
      "\u001b[0;31mImportError\u001b[0m: cannot import name 'HQSAM' from 'autodistill_sam_hq' (/Users/sueszli/.asdf/installs/python/3.11.9/lib/python3.11/site-packages/autodistill_sam_hq/__init__.py)"
     ]
    }
   ],
   "source": [
    "from autodistill_sam_hq import HQSAM\n",
    "from pathlib import Path\n",
    "from matplotlib import pyplot as plt\n",
    "import sys\n",
    "import cv2\n",
    "import random\n",
    "sys.path.append(\"..\")\n",
    "\n",
    "\n",
    "filename =  f'kodim{random.randint(1, 24):02d}.png'\n",
    "imgpath = Path.cwd().parent.parent / 'data' / 'kodak' / filename\n",
    "assert imgpath.exists(), f'Image not found at {imgpath}'\n",
    "image = cv2.imread(str(imgpath))\n",
    "image = cv2.cvtColor(image, cv2.COLOR_BGR2RGB)\n",
    "print(f\"filename: {filename}\")\n",
    "\n",
    "plt.figure(figsize=(5,5))\n",
    "plt.imshow(image)\n",
    "plt.axis('off')\n",
    "plt.show()\n",
    "\n",
    "\n",
    "base_model = HQSAM(None)\n",
    "masks = base_model.predict(image)\n",
    "\n",
    "print(masks)"
   ]
  },
  {
   "cell_type": "code",
   "execution_count": 9,
   "metadata": {},
   "outputs": [
    {
     "ename": "NameError",
     "evalue": "name 'HQSAM' is not defined",
     "output_type": "error",
     "traceback": [
      "\u001b[0;31m---------------------------------------------------------------------------\u001b[0m",
      "\u001b[0;31mNameError\u001b[0m                                 Traceback (most recent call last)",
      "Cell \u001b[0;32mIn[9], line 4\u001b[0m\n\u001b[1;32m      1\u001b[0m \u001b[38;5;66;03m# huggingface: \"Uminosachi/sam-hq\"\u001b[39;00m\n\u001b[1;32m      3\u001b[0m model_id \u001b[38;5;241m=\u001b[39m \u001b[38;5;124m\"\u001b[39m\u001b[38;5;124mUminosachi/sam-hq\u001b[39m\u001b[38;5;124m\"\u001b[39m\n\u001b[0;32m----> 4\u001b[0m hq_model \u001b[38;5;241m=\u001b[39m \u001b[43mHQSAM\u001b[49m(model_id)\n\u001b[1;32m      5\u001b[0m hq_masks \u001b[38;5;241m=\u001b[39m hq_model\u001b[38;5;241m.\u001b[39mpredict(image)\n\u001b[1;32m      7\u001b[0m \u001b[38;5;28mprint\u001b[39m(hq_masks)\n",
      "\u001b[0;31mNameError\u001b[0m: name 'HQSAM' is not defined"
     ]
    }
   ],
   "source": []
  },
  {
   "cell_type": "code",
   "execution_count": null,
   "metadata": {},
   "outputs": [],
   "source": []
  }
 ],
 "metadata": {
  "kernelspec": {
   "display_name": "Python 3",
   "language": "python",
   "name": "python3"
  },
  "language_info": {
   "codemirror_mode": {
    "name": "ipython",
    "version": 3
   },
   "file_extension": ".py",
   "mimetype": "text/x-python",
   "name": "python",
   "nbconvert_exporter": "python",
   "pygments_lexer": "ipython3",
   "version": "3.11.9"
  }
 },
 "nbformat": 4,
 "nbformat_minor": 2
}
