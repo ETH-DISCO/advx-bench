{
 "cells": [
  {
   "cell_type": "code",
   "execution_count": 25,
   "metadata": {},
   "outputs": [],
   "source": [
    "import requests\n",
    "\n",
    "import matplotlib.pyplot as plt\n",
    "import torch\n",
    "from PIL import Image\n",
    "from transformers import AutoProcessor, AutoModelForZeroShotObjectDetection \n",
    "import math\n",
    "\n",
    "model_id = \"IDEA-Research/grounding-dino-base\"\n",
    "def get_device():\n",
    "    devstr = \"cpu\"\n",
    "    if torch.cuda.is_available():\n",
    "        devstr = \"cuda\"\n",
    "    elif torch.backends.mps.is_available():\n",
    "        devstr = \"mps\"\n",
    "    return devstr\n",
    "device = get_device()\n",
    "\n",
    "processor = AutoProcessor.from_pretrained(model_id)\n",
    "model = AutoModelForZeroShotObjectDetection.from_pretrained(model_id).to(device)\n",
    "\n",
    "image_url = \"http://images.cocodataset.org/val2017/000000039769.jpg\"\n",
    "image = Image.open(requests.get(image_url, stream=True).raw)\n",
    "\n",
    "text = \"a cat. a remote control.\" # VERY important: text queries need to be lowercased + end with a dot\n",
    "\n",
    "inputs = processor(images=image, text=text, return_tensors=\"pt\").to(device)\n",
    "with torch.no_grad():\n",
    "    outputs = model(**inputs)\n",
    "\n",
    "results = processor.post_process_grounded_object_detection(\n",
    "    outputs,\n",
    "    inputs.input_ids,\n",
    "    box_threshold=0.3,\n",
    "    text_threshold=0.3,\n",
    "    target_sizes=[image.size[::-1]]\n",
    ")[0]\n",
    "\n",
    "plt.imshow(image)\n",
    "for res in list(zip(results[\"labels\"], results[\"scores\"], results[\"boxes\"])):\n",
    "    label = res[0]\n",
    "    score = res[1].item()\n",
    "    box = res[2].tolist()\n",
    "    print(f\"{label}: {score} {box}\")\n",
    "    plt.gca().add_patch(plt.Rectangle((box[0], box[1]), box[2] - box[0], box[3] - box[1], fill=False, edgecolor=\"red\", lw=2))\n",
    "    plt.text(box[0], box[1], f\"{label} {score:.2f}\", color=\"red\")\n",
    "plt.axis(\"off\")\n",
    "plt.show()\n"
   ]
  },
  {
   "cell_type": "code",
   "execution_count": null,
   "metadata": {},
   "outputs": [],
   "source": []
  }
 ],
 "metadata": {
  "kernelspec": {
   "display_name": "Python 3",
   "language": "python",
   "name": "python3"
  },
  "language_info": {
   "codemirror_mode": {
    "name": "ipython",
    "version": 3
   },
   "file_extension": ".py",
   "mimetype": "text/x-python",
   "name": "python",
   "nbconvert_exporter": "python",
   "pygments_lexer": "ipython3",
   "version": "3.11.9"
  }
 },
 "nbformat": 4,
 "nbformat_minor": 2
}
