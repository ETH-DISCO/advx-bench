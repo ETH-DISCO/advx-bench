{
  "cells": [
    {
      "cell_type": "code",
      "execution_count": null,
      "metadata": {
        "colab": {
          "base_uri": "https://localhost:8080/"
        },
        "id": "Cp9AgQ6lQ70T",
        "outputId": "4e1f472b-cd66-4eff-d011-41869b11f5e5"
      },
      "outputs": [
        {
          "name": "stdout",
          "output_type": "stream",
          "text": [
            "__CUDNN VERSION: 8906\n",
            "__Number CUDA Devices: 1\n",
            "__CUDA Device Name: Tesla T4\n",
            "__CUDA Device Total Memory [GB]: 15.835660288\n"
          ]
        }
      ],
      "source": [
        "import torch\n",
        "print('__CUDNN VERSION:', torch.backends.cudnn.version())\n",
        "print('__Number CUDA Devices:', torch.cuda.device_count())\n",
        "print('__CUDA Device Name:',torch.cuda.get_device_name(0))\n",
        "print('__CUDA Device Total Memory [GB]:',torch.cuda.get_device_properties(0).total_memory/1e9)"
      ]
    },
    {
      "cell_type": "code",
      "execution_count": null,
      "metadata": {
        "id": "wGLFMEFRTiEc"
      },
      "outputs": [],
      "source": []
    }
  ],
  "metadata": {
    "accelerator": "GPU",
    "colab": {
      "gpuType": "T4",
      "provenance": []
    },
    "kernelspec": {
      "display_name": "Python 3",
      "name": "python3"
    },
    "language_info": {
      "name": "python"
    }
  },
  "nbformat": 4,
  "nbformat_minor": 0
}
