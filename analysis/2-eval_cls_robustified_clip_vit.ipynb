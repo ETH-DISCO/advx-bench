{
 "cells": [
  {
   "cell_type": "code",
   "execution_count": 15,
   "metadata": {},
   "outputs": [
    {
     "name": "stdout",
     "output_type": "stream",
     "text": [
      "average acc improvement on masked dataset: -0.79\n"
     ]
    }
   ],
   "source": [
    "import math\n",
    "from scipy.optimize import minimize_scalar\n",
    "from scipy.optimize import fsolve\n",
    "from scipy import optimize\n",
    "import numpy as np\n",
    "from pathlib import Path\n",
    "import pandas as pd\n",
    "from IPython.display import display, HTML\n",
    "import matplotlib.pyplot as plt\n",
    "from matplotlib.ticker import AutoMinorLocator\n",
    "from sklearn.preprocessing import PolynomialFeatures\n",
    "from sklearn.linear_model import LinearRegression\n",
    "from sklearn.pipeline import make_pipeline\n",
    "import numpy as np\n",
    "from pathlib import Path\n",
    "import pandas as pd\n",
    "from IPython.display import display, HTML\n",
    "import matplotlib.pyplot as plt\n",
    "from matplotlib.ticker import AutoMinorLocator\n",
    "\n",
    "\n",
    "datapath = Path.cwd().parent / \"data\" / \"eval\" / \"eval_cls_robustified_clip_vit.csv\"\n",
    "data = pd.read_csv(datapath)\n",
    "\n",
    "\n",
    "\"\"\"\n",
    "preprocessing\n",
    "\"\"\"\n",
    "\n",
    "\n",
    "data = data.replace([np.inf, -np.inf], np.nan).dropna()\n",
    "keys = ['img_id']\n",
    "data = data.drop_duplicates(subset=keys)\n",
    "\n",
    "# difference in accuracy between original and fine-tuned model (higher is better)\n",
    "data['improvement'] = ((data[\"robustified_acc1\"] + data[\"robustified_acc5\"]) / 2) - ((data[\"original_acc1\"] + data[\"original_acc5\"]) / 2)\n",
    "# perceptual quality, approximates human perception (higher is better)\n",
    "data['quality'] = (data['cosine_sim'] + data['psnr'] / 100 + data['ssim']) / 3\n",
    "\n",
    "data = data.replace([np.inf, -np.inf], np.nan).dropna()\n",
    "if np.isinf(data['improvement']).any() or np.isinf(data['quality']).any():\n",
    "    print(\"\\nwarning: Infinity values still present in the data\")\n",
    "\n",
    "\n",
    "\"\"\"\n",
    "results\n",
    "\"\"\"\n",
    "\n",
    "\n",
    "# get average improvement\n",
    "avg_improvement = data['improvement'].mean()\n",
    "print(f\"average acc improvement on masked dataset: {avg_improvement:.2f}\")\n"
   ]
  },
  {
   "cell_type": "code",
   "execution_count": null,
   "metadata": {},
   "outputs": [],
   "source": []
  }
 ],
 "metadata": {
  "kernelspec": {
   "display_name": "Python 3",
   "language": "python",
   "name": "python3"
  },
  "language_info": {
   "codemirror_mode": {
    "name": "ipython",
    "version": 3
   },
   "file_extension": ".py",
   "mimetype": "text/x-python",
   "name": "python",
   "nbconvert_exporter": "python",
   "pygments_lexer": "ipython3",
   "version": "3.11.9"
  }
 },
 "nbformat": 4,
 "nbformat_minor": 2
}
