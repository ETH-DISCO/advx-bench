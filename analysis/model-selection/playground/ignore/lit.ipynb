{
 "cells": [
  {
   "cell_type": "code",
   "execution_count": 1,
   "metadata": {},
   "outputs": [
    {
     "name": "stdout",
     "output_type": "stream",
     "text": [
      "Reshimming asdf python...\n"
     ]
    }
   ],
   "source": [
    "!pip install -q git+https://github.com/google-research/vision_transformer"
   ]
  },
  {
   "cell_type": "code",
   "execution_count": 33,
   "metadata": {},
   "outputs": [
    {
     "name": "stdout",
     "output_type": "stream",
     "text": [
      "\n",
      "⚠️ Reusing local copy: LiT-B16B.npz\n",
      "similarity scores:\n",
      "\tan image of cats on a couch: 22.68%\n",
      "\ta diagram of scrambled eggs: 7.44%\n",
      "\tmany remote control devices spread out on a table: 12.63%\n",
      "\ta bad illustration of colorful houses: 7.28%\n",
      "\n",
      "max similarity: 'an image of cats on a couch'\n"
     ]
    }
   ],
   "source": [
    "import jax\n",
    "import jax.numpy as jnp\n",
    "from matplotlib import pyplot as plt\n",
    "import numpy as np\n",
    "import pandas as pd\n",
    "import tensorflow as tf\n",
    "import tensorflow_datasets as tfds\n",
    "import tqdm\n",
    "\n",
    "from vit_jax import models\n",
    "\n",
    "\n",
    "model_name = 'LiT-B16B'\n",
    "\n",
    "lit_model = models.get_model(model_name)\n",
    "lit_variables = lit_model.load_variables()\n",
    "tokenizer = lit_model.get_tokenizer()\n",
    "image_preprocessing = lit_model.get_image_preprocessing()\n",
    "pp = lit_model.get_pp()\n",
    "\n",
    "import requests\n",
    "from PIL import Image\n",
    "url = \"http://images.cocodataset.org/val2017/000000039769.jpg\"\n",
    "image = Image.open(requests.get(url, stream=True).raw)\n",
    "image = image.convert('RGB')\n",
    "image_array = np.array(image)\n",
    "\n",
    "image_array = np.expand_dims(image_array, axis=0) # add batch dimension\n",
    "image = image_preprocessing(image_array)\n",
    "\n",
    "texts = [\n",
    "    'an image of cats on a couch',\n",
    "    'a diagram of scrambled eggs',\n",
    "    'many remote control devices spread out on a table',\n",
    "    'a bad illustration of colorful houses',\n",
    "]\n",
    "tokens = tokenizer(texts)\n",
    "\n",
    "\n",
    "\"\"\"\n",
    "i have no idea if this makes sense, i just tried to figure out what the demo was doing\n",
    "\"\"\"\n",
    "\n",
    "_, ztxt, _ = lit_model.apply(lit_variables, tokens=tokens)\n",
    "zimg, _, _ = lit_model.apply(lit_variables, images=image)\n",
    "\n",
    "# normalize the embeddings\n",
    "zimg_norm = zimg / jnp.linalg.norm(zimg, axis=-1, keepdims=True)\n",
    "ztxt_norm = ztxt / jnp.linalg.norm(ztxt, axis=-1, keepdims=True)\n",
    "\n",
    "# compute similarity scores between the image and texts\n",
    "similarity_scores = jnp.dot(zimg_norm, ztxt_norm.T).squeeze()\n",
    "\n",
    "print(\"similarity scores:\")\n",
    "for text, score in zip(texts, similarity_scores):\n",
    "    print(f\"\\t{text}: {score * 100:.2f}%\")\n",
    "\n",
    "most_similar_index = jnp.argmax(similarity_scores)\n",
    "most_similar_text = texts[most_similar_index]\n",
    "highest_score = similarity_scores[most_similar_index]\n",
    "print(f\"\\nmax similarity: '{most_similar_text}'\")\n"
   ]
  },
  {
   "cell_type": "code",
   "execution_count": null,
   "metadata": {},
   "outputs": [],
   "source": []
  }
 ],
 "metadata": {
  "kernelspec": {
   "display_name": "Python 3",
   "language": "python",
   "name": "python3"
  },
  "language_info": {
   "codemirror_mode": {
    "name": "ipython",
    "version": 3
   },
   "file_extension": ".py",
   "mimetype": "text/x-python",
   "name": "python",
   "nbconvert_exporter": "python",
   "pygments_lexer": "ipython3",
   "version": "3.11.9"
  }
 },
 "nbformat": 4,
 "nbformat_minor": 2
}
