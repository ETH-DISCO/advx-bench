{
 "cells": [
  {
   "cell_type": "code",
   "execution_count": 3,
   "metadata": {},
   "outputs": [
    {
     "name": "stdout",
     "output_type": "stream",
     "text": [
      "Requirement already satisfied: segment-anything-hq in /Users/sueszli/.asdf/installs/python/3.11.9/lib/python3.11/site-packages (0.3)\n",
      "Requirement already satisfied: torch>=1.7 in /Users/sueszli/.asdf/installs/python/3.11.9/lib/python3.11/site-packages (from segment-anything-hq) (2.3.0)\n",
      "Requirement already satisfied: torchvision>=0.8 in /Users/sueszli/.asdf/installs/python/3.11.9/lib/python3.11/site-packages (from segment-anything-hq) (0.18.0)\n",
      "Requirement already satisfied: filelock in /Users/sueszli/.asdf/installs/python/3.11.9/lib/python3.11/site-packages (from torch>=1.7->segment-anything-hq) (3.12.4)\n",
      "Requirement already satisfied: typing-extensions>=4.8.0 in /Users/sueszli/.asdf/installs/python/3.11.9/lib/python3.11/site-packages (from torch>=1.7->segment-anything-hq) (4.11.0)\n",
      "Requirement already satisfied: sympy in /Users/sueszli/.asdf/installs/python/3.11.9/lib/python3.11/site-packages (from torch>=1.7->segment-anything-hq) (1.12.1rc1)\n",
      "Requirement already satisfied: networkx in /Users/sueszli/.asdf/installs/python/3.11.9/lib/python3.11/site-packages (from torch>=1.7->segment-anything-hq) (3.3)\n",
      "Requirement already satisfied: jinja2 in /Users/sueszli/.asdf/installs/python/3.11.9/lib/python3.11/site-packages (from torch>=1.7->segment-anything-hq) (3.1.4)\n",
      "Requirement already satisfied: fsspec in /Users/sueszli/.asdf/installs/python/3.11.9/lib/python3.11/site-packages (from torch>=1.7->segment-anything-hq) (2024.3.1)\n",
      "Requirement already satisfied: numpy in /Users/sueszli/.asdf/installs/python/3.11.9/lib/python3.11/site-packages (from torchvision>=0.8->segment-anything-hq) (1.24.4)\n",
      "Requirement already satisfied: pillow!=8.3.*,>=5.3.0 in /Users/sueszli/.asdf/installs/python/3.11.9/lib/python3.11/site-packages (from torchvision>=0.8->segment-anything-hq) (10.2.0)\n",
      "Requirement already satisfied: MarkupSafe>=2.0 in /Users/sueszli/.asdf/installs/python/3.11.9/lib/python3.11/site-packages (from jinja2->torch>=1.7->segment-anything-hq) (2.1.5)\n",
      "Requirement already satisfied: mpmath<1.4.0,>=1.1.0 in /Users/sueszli/.asdf/installs/python/3.11.9/lib/python3.11/site-packages (from sympy->torch>=1.7->segment-anything-hq) (1.3.0)\n",
      "Note: you may need to restart the kernel to use updated packages.\n"
     ]
    },
    {
     "ename": "FileNotFoundError",
     "evalue": "[Errno 2] No such file or directory: './models'",
     "output_type": "error",
     "traceback": [
      "\u001b[0;31m---------------------------------------------------------------------------\u001b[0m",
      "\u001b[0;31mFileNotFoundError\u001b[0m                         Traceback (most recent call last)",
      "Cell \u001b[0;32mIn[3], line 7\u001b[0m\n\u001b[1;32m      5\u001b[0m model_type \u001b[38;5;241m=\u001b[39m \u001b[38;5;124m\"\u001b[39m\u001b[38;5;124mvit_l\u001b[39m\u001b[38;5;124m\"\u001b[39m \u001b[38;5;66;03m# \"vit_l/vit_b/vit_h/vit_tiny\" - the best model is vit_l\u001b[39;00m\n\u001b[1;32m      6\u001b[0m sam_checkpoint \u001b[38;5;241m=\u001b[39m \u001b[38;5;124m\"\u001b[39m\u001b[38;5;124m./models\u001b[39m\u001b[38;5;124m\"\u001b[39m\n\u001b[0;32m----> 7\u001b[0m sam \u001b[38;5;241m=\u001b[39m \u001b[43msam_model_registry\u001b[49m\u001b[43m[\u001b[49m\u001b[43mmodel_type\u001b[49m\u001b[43m]\u001b[49m\u001b[43m(\u001b[49m\u001b[43mcheckpoint\u001b[49m\u001b[38;5;241;43m=\u001b[39;49m\u001b[43msam_checkpoint\u001b[49m\u001b[43m)\u001b[49m\n",
      "File \u001b[0;32m~/.asdf/installs/python/3.11.9/lib/python3.11/site-packages/segment_anything_hq/build_sam.py:28\u001b[0m, in \u001b[0;36mbuild_sam_vit_l\u001b[0;34m(checkpoint)\u001b[0m\n\u001b[1;32m     27\u001b[0m \u001b[38;5;28;01mdef\u001b[39;00m \u001b[38;5;21mbuild_sam_vit_l\u001b[39m(checkpoint\u001b[38;5;241m=\u001b[39m\u001b[38;5;28;01mNone\u001b[39;00m):\n\u001b[0;32m---> 28\u001b[0m     \u001b[38;5;28;01mreturn\u001b[39;00m \u001b[43m_build_sam\u001b[49m\u001b[43m(\u001b[49m\n\u001b[1;32m     29\u001b[0m \u001b[43m        \u001b[49m\u001b[43mencoder_embed_dim\u001b[49m\u001b[38;5;241;43m=\u001b[39;49m\u001b[38;5;241;43m1024\u001b[39;49m\u001b[43m,\u001b[49m\n\u001b[1;32m     30\u001b[0m \u001b[43m        \u001b[49m\u001b[43mencoder_depth\u001b[49m\u001b[38;5;241;43m=\u001b[39;49m\u001b[38;5;241;43m24\u001b[39;49m\u001b[43m,\u001b[49m\n\u001b[1;32m     31\u001b[0m \u001b[43m        \u001b[49m\u001b[43mencoder_num_heads\u001b[49m\u001b[38;5;241;43m=\u001b[39;49m\u001b[38;5;241;43m16\u001b[39;49m\u001b[43m,\u001b[49m\n\u001b[1;32m     32\u001b[0m \u001b[43m        \u001b[49m\u001b[43mencoder_global_attn_indexes\u001b[49m\u001b[38;5;241;43m=\u001b[39;49m\u001b[43m[\u001b[49m\u001b[38;5;241;43m5\u001b[39;49m\u001b[43m,\u001b[49m\u001b[43m \u001b[49m\u001b[38;5;241;43m11\u001b[39;49m\u001b[43m,\u001b[49m\u001b[43m \u001b[49m\u001b[38;5;241;43m17\u001b[39;49m\u001b[43m,\u001b[49m\u001b[43m \u001b[49m\u001b[38;5;241;43m23\u001b[39;49m\u001b[43m]\u001b[49m\u001b[43m,\u001b[49m\n\u001b[1;32m     33\u001b[0m \u001b[43m        \u001b[49m\u001b[43mcheckpoint\u001b[49m\u001b[38;5;241;43m=\u001b[39;49m\u001b[43mcheckpoint\u001b[49m\u001b[43m,\u001b[49m\n\u001b[1;32m     34\u001b[0m \u001b[43m    \u001b[49m\u001b[43m)\u001b[49m\n",
      "File \u001b[0;32m~/.asdf/installs/python/3.11.9/lib/python3.11/site-packages/segment_anything_hq/build_sam.py:159\u001b[0m, in \u001b[0;36m_build_sam\u001b[0;34m(encoder_embed_dim, encoder_depth, encoder_num_heads, encoder_global_attn_indexes, checkpoint)\u001b[0m\n\u001b[1;32m    157\u001b[0m sam\u001b[38;5;241m.\u001b[39meval()\n\u001b[1;32m    158\u001b[0m \u001b[38;5;28;01mif\u001b[39;00m checkpoint \u001b[38;5;129;01mis\u001b[39;00m \u001b[38;5;129;01mnot\u001b[39;00m \u001b[38;5;28;01mNone\u001b[39;00m:\n\u001b[0;32m--> 159\u001b[0m     \u001b[38;5;28;01mwith\u001b[39;00m \u001b[38;5;28;43mopen\u001b[39;49m\u001b[43m(\u001b[49m\u001b[43mcheckpoint\u001b[49m\u001b[43m,\u001b[49m\u001b[43m \u001b[49m\u001b[38;5;124;43m\"\u001b[39;49m\u001b[38;5;124;43mrb\u001b[39;49m\u001b[38;5;124;43m\"\u001b[39;49m\u001b[43m)\u001b[49m \u001b[38;5;28;01mas\u001b[39;00m f:\n\u001b[1;32m    160\u001b[0m         state_dict \u001b[38;5;241m=\u001b[39m torch\u001b[38;5;241m.\u001b[39mload(f)\n\u001b[1;32m    161\u001b[0m     info \u001b[38;5;241m=\u001b[39m sam\u001b[38;5;241m.\u001b[39mload_state_dict(state_dict, strict\u001b[38;5;241m=\u001b[39m\u001b[38;5;28;01mFalse\u001b[39;00m)\n",
      "\u001b[0;31mFileNotFoundError\u001b[0m: [Errno 2] No such file or directory: './models'"
     ]
    }
   ],
   "source": [
    "%pip install segment-anything-hq\n",
    "\n",
    "from segment_anything_hq import sam_model_registry\n",
    "\n",
    "model_type = \"vit_l\" # \"vit_l/vit_b/vit_h/vit_tiny\" - the best model is vit_l\n",
    "sam_checkpoint = \"vit_l_384_1.0x.pth\" # \"vit_l_384_1.0x.pth\" - the best checkpoint is vit_l_384_1.0x.pth\n",
    "sam = sam_model_registry[model_type](checkpoint=sam_checkpoint)\n"
   ]
  },
  {
   "cell_type": "code",
   "execution_count": null,
   "metadata": {},
   "outputs": [],
   "source": []
  }
 ],
 "metadata": {
  "kernelspec": {
   "display_name": "Python 3",
   "language": "python",
   "name": "python3"
  },
  "language_info": {
   "codemirror_mode": {
    "name": "ipython",
    "version": 3
   },
   "file_extension": ".py",
   "mimetype": "text/x-python",
   "name": "python",
   "nbconvert_exporter": "python",
   "pygments_lexer": "ipython3",
   "version": "3.11.9"
  }
 },
 "nbformat": 4,
 "nbformat_minor": 2
}
